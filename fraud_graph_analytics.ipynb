{
 "cells": [
  {
   "cell_type": "markdown",
   "id": "876fd610-7e2f-4b98-88f0-78d057b8a939",
   "metadata": {},
   "source": [
    "# Fraud Analytics"
   ]
  },
  {
   "cell_type": "markdown",
   "id": "d1bdbb3e",
   "metadata": {},
   "source": [
    "## Creating a fraud graph\n",
    "\n",
    "### Set-up"
   ]
  },
  {
   "cell_type": "code",
   "execution_count": null,
   "id": "ddb07abe-22f0-4f00-8d80-891462cb4302",
   "metadata": {
    "tags": []
   },
   "outputs": [],
   "source": [
    "from utils.set_env_variables import set_environment_variables\n",
    "import os\n",
    "\n",
    "set_environment_variables()\n",
    "\n",
    "neptune_cluster_id = \"neptunedbcluster-gdaeeuitulg4\"\n",
    "neptune_endpoint= os.getenv('NEPTUNE_ENDPOINT')\n",
    "neptune_port = os.getenv('NEPTUNE_PORT')\n",
    "neptune_auth_mode = os.getenv('NEPTUNE_AUTH_MODE')\n",
    "s3_role_arn = os.getenv('S3_ROLE_ARN')\n",
    "ssl = os.getenv('SSL')\n",
    "ssl_verify = os.getenv('SSL_VERIFY')\n",
    "aws_region = os.getenv('AWS_REGION')"
   ]
  },
  {
   "cell_type": "code",
   "execution_count": null,
   "id": "fcfab9b0-3939-4de5-a551-7fd06e72712b",
   "metadata": {
    "tags": []
   },
   "outputs": [],
   "source": [
    "%%graph_notebook_config\n",
    "{\n",
    "  \"host\": \"${neptune_endpoint}\",\n",
    "  \"neptune_service\": \"neptune-db\",\n",
    "  \"port\": \"${neptune_port}\",\n",
    "  \"auth_mode\": \"${neptune_auth_mode}\",\n",
    "  \"load_from_s3_arn\": \"${s3_role_arn}\",\n",
    "  \"ssl\": \"${ssl}\",\n",
    "  \"ssl_verify\": \"${ssl_verify}\",\n",
    "  \"aws_region\": \"${aws_region}\"\n",
    "}"
   ]
  },
  {
   "cell_type": "markdown",
   "id": "5d212cc8-c6a8-47e6-9807-8f2747c5c513",
   "metadata": {},
   "source": [
    "### Adding sample data"
   ]
  },
  {
   "cell_type": "code",
   "execution_count": null,
   "id": "b0589d25",
   "metadata": {
    "tags": []
   },
   "outputs": [],
   "source": [
    "import graph_notebook as gn\n",
    "config = gn.configuration.get_config.get_config()\n",
    "\n",
    "s3_bucket = f\"s3://aws-neptune-customer-samples-{config.aws_region}/sample-datasets/gremlin/Fraud/\"\n",
    "region = config.aws_region\n",
    "load_arn = config.load_from_s3_arn"
   ]
  },
  {
   "cell_type": "code",
   "execution_count": null,
   "id": "05be086d-f051-446e-89d4-658d5f96bb13",
   "metadata": {},
   "outputs": [],
   "source": [
    "from utils.neptune_bulk_load import bulk_load_neptune\n",
    "\n",
    "# Initiate the bulk load process\n",
    "load_status = bulk_load_neptune(neptune_cluster_id, neptune_endpoint, neptune_port, s3_bucket, \"csv\", s3_role_arn, aws_region)\n",
    "\n",
    "print(load_status)"
   ]
  },
  {
   "cell_type": "code",
   "execution_count": null,
   "id": "3ae9edfa-6438-4455-87c2-2d4f90fb132a",
   "metadata": {},
   "outputs": [],
   "source": [
    "%load_status 9461335e-212e-404f-87fe-bf13d30bebdc"
   ]
  },
  {
   "cell_type": "markdown",
   "id": "8be35c6b-a221-4a90-b0b5-149275f5b948",
   "metadata": {},
   "source": [
    "### Switch connection to opencypher"
   ]
  },
  {
   "cell_type": "code",
   "execution_count": null,
   "id": "3f5e2f3d-9bef-465b-b305-263c1cd055a1",
   "metadata": {
    "tags": []
   },
   "outputs": [],
   "source": [
    "%%graph_notebook_config\n",
    "{\n",
    "  \"host\": \"${neptune_endpoint}\",\n",
    "  \"neptune_service\": \"neptune-graph\",\n",
    "  \"port\": \"${neptune_port}\",\n",
    "  \"auth_mode\": \"${neptune_auth_mode}\",\n",
    "  \"load_from_s3_arn\": \"${s3_role_arn}\",\n",
    "  \"ssl\": \"${ssl}\",\n",
    "  \"ssl_verify\": \"${ssl_verify}\",\n",
    "  \"aws_region\": \"${aws_region}\"\n",
    "}"
   ]
  },
  {
   "cell_type": "markdown",
   "id": "43fdc65f",
   "metadata": {},
   "source": [
    "### Set visualization and configuration options\n",
    "\n",
    "The cell below configures the visualization to use specific colors and icons for the different parts of the data model."
   ]
  },
  {
   "cell_type": "code",
   "execution_count": null,
   "id": "854a23c6",
   "metadata": {
    "jupyter": {
     "source_hidden": true
    },
    "tags": []
   },
   "outputs": [],
   "source": [
    "%%graph_notebook_vis_options\n",
    "\n",
    "{\n",
    "  \"groups\": {\n",
    "    \"Account\": {\n",
    "      \"shape\": \"icon\",\n",
    "      \"icon\": {\n",
    "        \"face\": \"'Font Awesome 5 Free'\",\n",
    "        \"weight\": \"bold\",\n",
    "        \"code\": \"\\uf2bb\",\n",
    "        \"color\": \"red\"\n",
    "      }\n",
    "    },\n",
    "    \"Transaction\": {\n",
    "      \"shape\": \"icon\",\n",
    "      \"icon\": {\n",
    "        \"face\": \"'Font Awesome 5 Free'\",\n",
    "        \"weight\": \"bold\",\n",
    "        \"code\": \"\\uf155\",\n",
    "        \"color\": \"green\"\n",
    "      }\n",
    "    },\n",
    "    \"Merchant\": {\n",
    "      \"shape\": \"icon\",\n",
    "      \"icon\": {\n",
    "        \"face\": \"'Font Awesome 5 Free'\",\n",
    "        \"weight\": \"bold\",\n",
    "        \"code\": \"\\uf290\",\n",
    "        \"color\": \"orange\"\n",
    "      }\n",
    "    },\n",
    "    \"DateOfBirth\": {\n",
    "      \"shape\": \"icon\",\n",
    "      \"icon\": {\n",
    "        \"face\": \"'Font Awesome 5 Free'\",\n",
    "        \"weight\": \"bold\",\n",
    "        \"code\": \"\\uf1fd\",\n",
    "        \"color\": \"blue\"\n",
    "      }\n",
    "    },\n",
    "    \"EmailAddress\": {\n",
    "      \"shape\": \"icon\",\n",
    "      \"icon\": {\n",
    "        \"face\": \"'Font Awesome 5 Free'\",\n",
    "        \"weight\": \"bold\",\n",
    "        \"code\": \"\\uf1fa\",\n",
    "        \"color\": \"blue\"\n",
    "      }\n",
    "    },\n",
    "    \"Address\": {\n",
    "      \"shape\": \"icon\",\n",
    "      \"icon\": {\n",
    "        \"face\": \"'Font Awesome 5 Free'\",\n",
    "        \"weight\": \"bold\",\n",
    "        \"code\": \"\\uf015\",\n",
    "        \"color\": \"blue\"\n",
    "      }\n",
    "    },\n",
    "    \"IpAddress\": {\n",
    "      \"shape\": \"icon\",\n",
    "      \"icon\": {\n",
    "        \"face\": \"'Font Awesome 5 Free'\",\n",
    "        \"weight\": \"bold\",\n",
    "        \"code\": \"\\uf109\",\n",
    "        \"color\": \"blue\"\n",
    "      }\n",
    "    },\n",
    "    \"PhoneNumber\": {\n",
    "      \"shape\": \"icon\",\n",
    "      \"icon\": {\n",
    "        \"face\": \"'Font Awesome 5 Free'\",\n",
    "        \"weight\": \"bold\",\n",
    "        \"code\": \"\\uf095\",\n",
    "        \"color\": \"blue\"\n",
    "      }\n",
    "    }\n",
    "  },\n",
    "  \"edges\": {\n",
    "    \"color\": {\n",
    "      \"inherit\": false\n",
    "    },\n",
    "    \"smooth\": {\n",
    "      \"enabled\": true,\n",
    "      \"type\": \"straightCross\"\n",
    "    },\n",
    "    \"arrows\": {\n",
    "      \"to\": {\n",
    "        \"enabled\": false,\n",
    "        \"type\": \"arrow\"\n",
    "      }\n",
    "    },\n",
    "    \"font\": {\n",
    "      \"face\": \"courier new\"\n",
    "    }\n",
    "  }\n",
    "}"
   ]
  },
  {
   "cell_type": "markdown",
   "id": "5b4ce1c2",
   "metadata": {},
   "source": [
    "### Data model\n",
    "The fraud graph included in this example contains synthetic data that models credit card accounts, account holder information, merchants, and the transactions performed when an account holder purchases goods or services from a merchant.\n",
    "\n",
    "**Account and features**\n",
    "\n",
    "An Account has a number of features, including physical Address, IpAddress, DateOfBirth of the account holder, EmailAddress, and contact PhoneNumber. An account holder can have multiple email addresses and phone numbers."
   ]
  },
  {
   "cell_type": "markdown",
   "id": "de43d125-f38e-40dd-a735-32870fb5638e",
   "metadata": {},
   "source": [
    "## Identifying Fraud Rings\n",
    "Detecting fraud rings involves identifying unusual or suspicious patterns in data. These patterns can vary depending on the type of fraud and the context in which it occurs. Here are some common patterns that analysts and machine learning models might look for:\n",
    "\n",
    "* Unusual Behavior Patterns:\n",
    "    * Frequency: Unusually high or low transaction frequencies for certain accounts.\n",
    "    * Time of Activity: Transactions occurring at unusual times or outside regular business hours.\n",
    "    * Location: Transactions from unexpected or geographically distant locations.\n",
    "\n",
    "* Transaction Specifics:\n",
    "    * Transaction Amounts: Unusually large or small transactions compared to historical behavior.\n",
    "    * Transaction Types: Identifying unusual types of transactions for a specific user.\n",
    "    \n",
    "* Social Network Analysis:\n",
    "    * Connections: Identifying networks of accounts that frequently transact with each other.\n",
    "    * Topology Analysis: Examining the structure of connections between accounts.\n",
    "    \n",
    "These are just a few on the patterns you can look for to find fraud rings.  For this notebook we will be looking at detecting anomalous behavior using Social Network Analysis to find groups of accounts that are disproportionately highly connected with one another.  We will then use these groups to perform a topological analysis of these accounts by looking at the structure of the connections between the accounts.\n",
    "\n",
    "To begin this process we will start by running a graph algorithm that finds groups of highly connected nodes. Algorithms that accomplish this below to a category of algorithms called `Community Detection`.  Community detection algorithms calculate meaningful groups or clusters of nodes within a network, revealing hidden patterns and structures that can provide insights into the organization and dynamics of complex systems.\n",
    "\n",
    "There are a variety of supported community detection algorithms in Neptune Analytics and for this demonstration we will be using one known as **Label Propagation**\n",
    "\n",
    "The label propagation algorithm is a semi-supervised machine learning algorithm that assigns labels to nodes based on the consensus of their neighboring nodes.  This algorithm functions by assigning a label to a small subset of nodes.  These labels are then propagated to that nodes neighbors based on the maximum set of neighbor nodes."
   ]
  },
  {
   "cell_type": "code",
   "execution_count": null,
   "id": "660744e8-e692-48ca-8f2b-046a63e5aa05",
   "metadata": {
    "tags": []
   },
   "outputs": [],
   "source": [
    "# from utils.open_cypher_query import NeptuneCypherUtility\n",
    "\n",
    "# neptune_util = NeptuneCypherUtility(cluster_endpoint=neptune_endpoint, region_name=aws_region)\n",
    "\n",
    "# community_data = neptune_util.eval_label_propagation()\n",
    "# print(community_data)"
   ]
  },
  {
   "cell_type": "code",
   "execution_count": null,
   "id": "09ba869e-ab56-4c3f-a7d3-9fc82ccf3e4e",
   "metadata": {
    "tags": []
   },
   "outputs": [],
   "source": [
    "# %%oc\n",
    "\n",
    "# MATCH (n)\n",
    "# CALL neptune.algo.labelPropagation(n)\n",
    "# YIELD community\n",
    "# RETURN community, count(n) as size\n",
    "# ORDER BY size DESC"
   ]
  },
  {
   "cell_type": "markdown",
   "id": "04e274a1-8259-4d46-9f87-93cd3f9c9fce",
   "metadata": {},
   "source": [
    "**Investigate anomalous groups using the the `community_data` variable.**"
   ]
  },
  {
   "cell_type": "code",
   "execution_count": null,
   "id": "fc56bbb7-3960-40d1-a536-8d9b2f63ac83",
   "metadata": {
    "tags": []
   },
   "outputs": [],
   "source": [
    "import numpy as np\n",
    "import pandas as pd\n",
    "import plotly.express as px\n",
    "\n",
    "# Create a numpy histogram with the nubmer of bins being the max size\n",
    "df = pd.DataFrame(community_data['results'])\n",
    "hist = np.histogram(df.get('size'), bins=community_data['results'][0]['size'])\n",
    "\n",
    "# Plot the histogram using Plotly\n",
    "fig = px.bar(hist[0].tolist(), title = \"Community Size Distribution\")\n",
    "fig.update_layout(xaxis_title='Community Size', yaxis_title='Occurrences', title_x=0.5)\n",
    "fig.update_traces(showlegend=False)\n",
    "fig.show()"
   ]
  },
  {
   "cell_type": "markdown",
   "id": "818db47b-86ea-451b-bb9b-fa9670b42555",
   "metadata": {},
   "source": [
    "**Persist `community_data` to graph.**"
   ]
  },
  {
   "cell_type": "code",
   "execution_count": null,
   "id": "c7ef849d-a632-4e3b-a1da-15aadc96f1aa",
   "metadata": {
    "tags": []
   },
   "outputs": [],
   "source": [
    "# %%oc\n",
    "\n",
    "# CALL neptune.algo.labelPropagation.mutate({writeProperty: 'community'})"
   ]
  },
  {
   "cell_type": "markdown",
   "id": "e18f6320-e19c-42fe-b30d-cecb3635a504",
   "metadata": {},
   "source": [
    "**Query a single community**"
   ]
  },
  {
   "cell_type": "code",
   "execution_count": null,
   "id": "d84e4dbc-1203-46b5-bcfd-ea387f69c4db",
   "metadata": {
    "tags": []
   },
   "outputs": [],
   "source": [
    "%%oc -g community\n",
    "\n",
    "MATCH (n) \n",
    "WITH n.community as community, count(n.community) as community_size \n",
    "ORDER BY community_size DESC LIMIT 1\n",
    "MATCH (n) WHERE n.community = community\n",
    "MATCH p=(n)-[]->()\n",
    "RETURN p"
   ]
  },
  {
   "cell_type": "markdown",
   "id": "ea89c8e1-3bdd-48de-9184-34956670bd3c",
   "metadata": {},
   "source": [
    "### Centrality\n",
    "\n",
    " Centrality in a graph refers to measures that identify the most important or central nodes in a network graph. Some common centrality measures include:\n",
    "\n",
    "- Degree centrality - Counts the number of edges connected to a node. Nodes with higher degree are more central or \"connected\" in the graph.\n",
    "\n",
    "- Closeness centrality - Calculates how close a node is to all other nodes by finding the shortest paths. Nodes with high closeness can spread information more quickly.\n",
    "\n",
    "- PageRank - A variant of eigenvector centrality used by Google Search to rank website importance. Important pages are those linked to by other important pages.\n",
    "\n",
    "In general, nodes with high centrality values are considered influential, visible, and critical to efficient network flow. Centrality helps identify the most important nodes to target in a network.\n",
    "\n",
    "**Demonstrate evaluation of closeness centrality**\n",
    "A measure of the average shortest path between a node and all other nodes in a network."
   ]
  },
  {
   "cell_type": "code",
   "execution_count": null,
   "id": "f02a5645-3c88-41fc-951e-77c05a128eb1",
   "metadata": {
    "tags": []
   },
   "outputs": [],
   "source": [
    "%%oc\n",
    "\n",
    "MATCH (n) \n",
    "CALL neptune.algo.closenessCentrality(n, {numSources: 8192})\n",
    "YIELD score\n",
    "RETURN n, score \n",
    "ORDER BY score DESC LIMIT 1"
   ]
  },
  {
   "cell_type": "markdown",
   "id": "c06c986a-0467-473c-a6db-bd3551a4c8f4",
   "metadata": {},
   "source": [
    "**Persist centrality value back into our graph as `centrality`**"
   ]
  },
  {
   "cell_type": "code",
   "execution_count": null,
   "id": "e5f26b38-3e87-4273-9eac-2715e0925923",
   "metadata": {
    "tags": []
   },
   "outputs": [],
   "source": [
    "%%oc\n",
    "CALL neptune.algo.closenessCentrality.mutate({numSources: 8192, writeProperty: \"centrality\"})"
   ]
  },
  {
   "cell_type": "markdown",
   "id": "3b70e20e-e3fb-47d8-84ed-f0647b07d0f8",
   "metadata": {},
   "source": [
    "## Examining a Fraud Ring\n",
    "\n",
    "A common workflow for fraud ring investigation is to look at the most important node inside an anomalous communities.  Use community anomalies with centrality measurements to find a list of the 5 most important nodes warranting investigation."
   ]
  },
  {
   "cell_type": "code",
   "execution_count": null,
   "id": "0f759899-9730-4b0e-ac5a-e73ef1750f8e",
   "metadata": {
    "tags": []
   },
   "outputs": [],
   "source": [
    "%%oc -g community\n",
    "\n",
    "MATCH (n) \n",
    "WITH n.community as community, count(n.community) as community_size \n",
    "ORDER BY community_size DESC LIMIT 1\n",
    "MATCH (n) \n",
    "WHERE n.community = community\n",
    "RETURN n\n",
    "ORDER BY n.centrality DESC LIMIT 5"
   ]
  },
  {
   "cell_type": "markdown",
   "id": "c882feb8",
   "metadata": {},
   "source": [
    "**Include graph traversal from nodes**"
   ]
  },
  {
   "cell_type": "code",
   "execution_count": null,
   "id": "ad0e5c6c",
   "metadata": {
    "tags": []
   },
   "outputs": [],
   "source": [
    "%%oc -g community -sd 30000\n",
    "\n",
    "MATCH (n) \n",
    "WITH n.community as community, count(n.community) as community_size \n",
    "ORDER BY community_size DESC LIMIT 1\n",
    "MATCH (n) \n",
    "WHERE n.community = community\n",
    "WITH n ORDER BY n.centrality DESC LIMIT 5\n",
    "MATCH p=(n)-[]-()-[]-()\n",
    "RETURN p"
   ]
  },
  {
   "cell_type": "markdown",
   "id": "301adab7",
   "metadata": {},
   "source": [
    "## Analyzing the results\n",
    "\n",
    "At this juncture, the suspicious nodes would be presented to a subject matter expert (i.e. fraud analyst) to perform a review and make a final indication as to whether or not it represents fraud."
   ]
  },
  {
   "cell_type": "markdown",
   "id": "6d60c51f",
   "metadata": {},
   "source": [
    "### Mark as Fraud/Not Fraud\n",
    "\n",
    "Assume a domain expert has made a determination that the `merchant-48` node in our graph is a fraudulent.  Mark the account above as fraudulent by setting the `isFraud` property to `True`"
   ]
  },
  {
   "cell_type": "code",
   "execution_count": null,
   "id": "e4b36504",
   "metadata": {
    "tags": []
   },
   "outputs": [],
   "source": [
    "%%oc -d value -l 20\n",
    "MATCH (a)\n",
    "WHERE id(a)='merchant-48'\n",
    "SET a.isFraud=True\n",
    "RETURN a"
   ]
  },
  {
   "cell_type": "markdown",
   "id": "1b11de2f",
   "metadata": {},
   "source": [
    "### Find all items within three hops of the fraudulent merchant\n",
    "Evaluate potential scrutiny for those close to the fraudulent actor."
   ]
  },
  {
   "cell_type": "code",
   "execution_count": null,
   "id": "74dffa64",
   "metadata": {
    "tags": []
   },
   "outputs": [],
   "source": [
    "%%oc -d value -l 20\n",
    "\n",
    "MATCH p=(a)-[*1..3]-()\n",
    "WHERE a.isFraud=True\n",
    "RETURN p"
   ]
  },
  {
   "cell_type": "markdown",
   "id": "b37c65a0",
   "metadata": {},
   "source": [
    "## Conclusion\n",
    "\n",
    "This notebook has utilized a credit card dataset with account- and transaction-centric queries to perform a graph based fraud ring analysis based on a guilt-by-associated approach.  First identifying the groups in our data.  Then identifying the most influential nodes within these groups and stored this information within our graph.  And finally, using this information we were able to explore the connections around the most influential entities to identify other potentially fraudulent accounts.\n",
    "\n",
    "Finding and understanding fraud rings is a problem that requires the ability to query, analyze, and explore the connections between accounts, transactions, and account features.  Combining the ability to query a graph with the ability to run network analysis and graph algorithms on top of that data enables us to derive novel insights from this data. "
   ]
  },
  {
   "cell_type": "code",
   "execution_count": null,
   "id": "6b815291-4d5f-4835-be86-b44eca00fc14",
   "metadata": {},
   "outputs": [],
   "source": []
  }
 ],
 "metadata": {
  "kernelspec": {
   "display_name": "Python 3",
   "language": "python",
   "name": "python3"
  },
  "language_info": {
   "codemirror_mode": {
    "name": "ipython",
    "version": 3
   },
   "file_extension": ".py",
   "mimetype": "text/x-python",
   "name": "python",
   "nbconvert_exporter": "python",
   "pygments_lexer": "ipython3",
   "version": "3.10.8"
  },
  "vscode": {
   "interpreter": {
    "hash": "a974f8b3b9f8334bb022754c2deb5119d965db26467015db28878a5b98c93519"
   }
  }
 },
 "nbformat": 4,
 "nbformat_minor": 5
}
