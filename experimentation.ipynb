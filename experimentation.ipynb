{
 "cells": [
  {
   "cell_type": "code",
   "execution_count": 21,
   "id": "257371f4-a258-4ef0-9fce-8b630fbb214e",
   "metadata": {
    "tags": []
   },
   "outputs": [
    {
     "name": "stdout",
     "output_type": "stream",
     "text": [
      "Requirement already satisfied: awswrangler[gremlin,opencypher,sparql] in /home/ec2-user/anaconda3/envs/JupyterSystemEnv/lib/python3.10/site-packages (3.6.0)\n",
      "Requirement already satisfied: boto3<2.0.0,>=1.20.32 in /home/ec2-user/anaconda3/envs/JupyterSystemEnv/lib/python3.10/site-packages (from awswrangler[gremlin,opencypher,sparql]) (1.34.43)\n",
      "Requirement already satisfied: botocore<2.0.0,>=1.23.32 in /home/ec2-user/anaconda3/envs/JupyterSystemEnv/lib/python3.10/site-packages (from awswrangler[gremlin,opencypher,sparql]) (1.34.43)\n",
      "Requirement already satisfied: numpy<2.0,>=1.18 in /home/ec2-user/anaconda3/envs/JupyterSystemEnv/lib/python3.10/site-packages (from awswrangler[gremlin,opencypher,sparql]) (1.23.5)\n",
      "Requirement already satisfied: packaging<24.0,>=21.1 in /home/ec2-user/anaconda3/envs/JupyterSystemEnv/lib/python3.10/site-packages (from awswrangler[gremlin,opencypher,sparql]) (23.2)\n",
      "Requirement already satisfied: pandas<3.0.0,>=1.2.0 in /home/ec2-user/anaconda3/envs/JupyterSystemEnv/lib/python3.10/site-packages (from awswrangler[gremlin,opencypher,sparql]) (1.5.3)\n",
      "Requirement already satisfied: pyarrow>=7.0.0 in /home/ec2-user/anaconda3/envs/JupyterSystemEnv/lib/python3.10/site-packages (from awswrangler[gremlin,opencypher,sparql]) (15.0.0)\n",
      "Requirement already satisfied: typing-extensions<5.0.0,>=4.4.0 in /home/ec2-user/anaconda3/envs/JupyterSystemEnv/lib/python3.10/site-packages (from awswrangler[gremlin,opencypher,sparql]) (4.9.0)\n",
      "Requirement already satisfied: SPARQLWrapper<3.0.0,>=2.0.0 in /home/ec2-user/anaconda3/envs/JupyterSystemEnv/lib/python3.10/site-packages (from awswrangler[gremlin,opencypher,sparql]) (2.0.0)\n",
      "Requirement already satisfied: requests<3.0.0,>=2.0.0 in /home/ec2-user/anaconda3/envs/JupyterSystemEnv/lib/python3.10/site-packages (from awswrangler[gremlin,opencypher,sparql]) (2.31.0)\n",
      "Requirement already satisfied: aiohttp<4.0.0,>=3.9.0 in /home/ec2-user/anaconda3/envs/JupyterSystemEnv/lib/python3.10/site-packages (from awswrangler[gremlin,opencypher,sparql]) (3.9.3)\n",
      "Requirement already satisfied: async-timeout<5.0.0,>=4.0.3 in /home/ec2-user/anaconda3/envs/JupyterSystemEnv/lib/python3.10/site-packages (from awswrangler[gremlin,opencypher,sparql]) (4.0.3)\n",
      "Requirement already satisfied: gremlinpython<4.0.0,>=3.7.1 in /home/ec2-user/anaconda3/envs/JupyterSystemEnv/lib/python3.10/site-packages (from awswrangler[gremlin,opencypher,sparql]) (3.7.1)\n",
      "Requirement already satisfied: aiosignal>=1.1.2 in /home/ec2-user/anaconda3/envs/JupyterSystemEnv/lib/python3.10/site-packages (from aiohttp<4.0.0,>=3.9.0->awswrangler[gremlin,opencypher,sparql]) (1.3.1)\n",
      "Requirement already satisfied: attrs>=17.3.0 in /home/ec2-user/anaconda3/envs/JupyterSystemEnv/lib/python3.10/site-packages (from aiohttp<4.0.0,>=3.9.0->awswrangler[gremlin,opencypher,sparql]) (23.2.0)\n",
      "Requirement already satisfied: frozenlist>=1.1.1 in /home/ec2-user/anaconda3/envs/JupyterSystemEnv/lib/python3.10/site-packages (from aiohttp<4.0.0,>=3.9.0->awswrangler[gremlin,opencypher,sparql]) (1.4.1)\n",
      "Requirement already satisfied: multidict<7.0,>=4.5 in /home/ec2-user/anaconda3/envs/JupyterSystemEnv/lib/python3.10/site-packages (from aiohttp<4.0.0,>=3.9.0->awswrangler[gremlin,opencypher,sparql]) (6.0.5)\n",
      "Requirement already satisfied: yarl<2.0,>=1.0 in /home/ec2-user/anaconda3/envs/JupyterSystemEnv/lib/python3.10/site-packages (from aiohttp<4.0.0,>=3.9.0->awswrangler[gremlin,opencypher,sparql]) (1.9.4)\n",
      "Requirement already satisfied: jmespath<2.0.0,>=0.7.1 in /home/ec2-user/anaconda3/envs/JupyterSystemEnv/lib/python3.10/site-packages (from boto3<2.0.0,>=1.20.32->awswrangler[gremlin,opencypher,sparql]) (1.0.1)\n",
      "Requirement already satisfied: s3transfer<0.11.0,>=0.10.0 in /home/ec2-user/anaconda3/envs/JupyterSystemEnv/lib/python3.10/site-packages (from boto3<2.0.0,>=1.20.32->awswrangler[gremlin,opencypher,sparql]) (0.10.0)\n",
      "Requirement already satisfied: python-dateutil<3.0.0,>=2.1 in /home/ec2-user/anaconda3/envs/JupyterSystemEnv/lib/python3.10/site-packages (from botocore<2.0.0,>=1.23.32->awswrangler[gremlin,opencypher,sparql]) (2.8.2)\n",
      "Requirement already satisfied: urllib3<2.1,>=1.25.4 in /home/ec2-user/anaconda3/envs/JupyterSystemEnv/lib/python3.10/site-packages (from botocore<2.0.0,>=1.23.32->awswrangler[gremlin,opencypher,sparql]) (1.26.18)\n",
      "Requirement already satisfied: nest-asyncio in /home/ec2-user/anaconda3/envs/JupyterSystemEnv/lib/python3.10/site-packages (from gremlinpython<4.0.0,>=3.7.1->awswrangler[gremlin,opencypher,sparql]) (1.5.6)\n",
      "Requirement already satisfied: aenum<4.0.0,>=1.4.5 in /home/ec2-user/anaconda3/envs/JupyterSystemEnv/lib/python3.10/site-packages (from gremlinpython<4.0.0,>=3.7.1->awswrangler[gremlin,opencypher,sparql]) (3.1.15)\n",
      "Requirement already satisfied: six<2.0.0,>=1.10.0 in /home/ec2-user/anaconda3/envs/JupyterSystemEnv/lib/python3.10/site-packages (from gremlinpython<4.0.0,>=3.7.1->awswrangler[gremlin,opencypher,sparql]) (1.16.0)\n",
      "Requirement already satisfied: isodate<1.0.0,>=0.6.0 in /home/ec2-user/anaconda3/envs/JupyterSystemEnv/lib/python3.10/site-packages (from gremlinpython<4.0.0,>=3.7.1->awswrangler[gremlin,opencypher,sparql]) (0.6.1)\n",
      "Requirement already satisfied: pytz>=2020.1 in /home/ec2-user/anaconda3/envs/JupyterSystemEnv/lib/python3.10/site-packages (from pandas<3.0.0,>=1.2.0->awswrangler[gremlin,opencypher,sparql]) (2024.1)\n",
      "Requirement already satisfied: charset-normalizer<4,>=2 in /home/ec2-user/anaconda3/envs/JupyterSystemEnv/lib/python3.10/site-packages (from requests<3.0.0,>=2.0.0->awswrangler[gremlin,opencypher,sparql]) (2.1.1)\n",
      "Requirement already satisfied: idna<4,>=2.5 in /home/ec2-user/anaconda3/envs/JupyterSystemEnv/lib/python3.10/site-packages (from requests<3.0.0,>=2.0.0->awswrangler[gremlin,opencypher,sparql]) (3.6)\n",
      "Requirement already satisfied: certifi>=2017.4.17 in /home/ec2-user/anaconda3/envs/JupyterSystemEnv/lib/python3.10/site-packages (from requests<3.0.0,>=2.0.0->awswrangler[gremlin,opencypher,sparql]) (2024.2.2)\n",
      "Requirement already satisfied: rdflib>=6.1.1 in /home/ec2-user/anaconda3/envs/JupyterSystemEnv/lib/python3.10/site-packages (from SPARQLWrapper<3.0.0,>=2.0.0->awswrangler[gremlin,opencypher,sparql]) (7.0.0)\n",
      "Requirement already satisfied: pyparsing<4,>=2.1.0 in /home/ec2-user/anaconda3/envs/JupyterSystemEnv/lib/python3.10/site-packages (from rdflib>=6.1.1->SPARQLWrapper<3.0.0,>=2.0.0->awswrangler[gremlin,opencypher,sparql]) (3.1.1)\n",
      "Requirement already satisfied: igraph in /home/ec2-user/anaconda3/envs/JupyterSystemEnv/lib/python3.10/site-packages (0.11.4)\n",
      "Requirement already satisfied: networkx in /home/ec2-user/anaconda3/envs/JupyterSystemEnv/lib/python3.10/site-packages (2.4)\n",
      "Requirement already satisfied: texttable>=1.6.2 in /home/ec2-user/anaconda3/envs/JupyterSystemEnv/lib/python3.10/site-packages (from igraph) (1.7.0)\n",
      "Requirement already satisfied: decorator>=4.3.0 in /home/ec2-user/anaconda3/envs/JupyterSystemEnv/lib/python3.10/site-packages (from networkx) (5.1.1)\n",
      "Collecting matplotlib\n",
      "  Downloading matplotlib-3.8.3-cp310-cp310-manylinux_2_17_x86_64.manylinux2014_x86_64.whl.metadata (5.8 kB)\n",
      "Collecting contourpy>=1.0.1 (from matplotlib)\n",
      "  Downloading contourpy-1.2.0-cp310-cp310-manylinux_2_17_x86_64.manylinux2014_x86_64.whl.metadata (5.8 kB)\n",
      "Collecting cycler>=0.10 (from matplotlib)\n",
      "  Downloading cycler-0.12.1-py3-none-any.whl.metadata (3.8 kB)\n",
      "Collecting fonttools>=4.22.0 (from matplotlib)\n",
      "  Downloading fonttools-4.49.0-cp310-cp310-manylinux_2_17_x86_64.manylinux2014_x86_64.whl.metadata (159 kB)\n",
      "\u001b[2K     \u001b[90m━━━━━━━━━━━━━━━━━━━━━━━━━━━━━━━━━━━━━━━\u001b[0m \u001b[32m159.1/159.1 kB\u001b[0m \u001b[31m5.2 MB/s\u001b[0m eta \u001b[36m0:00:00\u001b[0m\n",
      "\u001b[?25hCollecting kiwisolver>=1.3.1 (from matplotlib)\n",
      "  Downloading kiwisolver-1.4.5-cp310-cp310-manylinux_2_12_x86_64.manylinux2010_x86_64.whl.metadata (6.4 kB)\n",
      "Requirement already satisfied: numpy<2,>=1.21 in /home/ec2-user/anaconda3/envs/JupyterSystemEnv/lib/python3.10/site-packages (from matplotlib) (1.23.5)\n",
      "Requirement already satisfied: packaging>=20.0 in /home/ec2-user/anaconda3/envs/JupyterSystemEnv/lib/python3.10/site-packages (from matplotlib) (23.2)\n",
      "Collecting pillow>=8 (from matplotlib)\n",
      "  Downloading pillow-10.2.0-cp310-cp310-manylinux_2_17_x86_64.manylinux2014_x86_64.whl.metadata (9.7 kB)\n",
      "Requirement already satisfied: pyparsing>=2.3.1 in /home/ec2-user/anaconda3/envs/JupyterSystemEnv/lib/python3.10/site-packages (from matplotlib) (3.1.1)\n",
      "Requirement already satisfied: python-dateutil>=2.7 in /home/ec2-user/anaconda3/envs/JupyterSystemEnv/lib/python3.10/site-packages (from matplotlib) (2.8.2)\n",
      "Requirement already satisfied: six>=1.5 in /home/ec2-user/anaconda3/envs/JupyterSystemEnv/lib/python3.10/site-packages (from python-dateutil>=2.7->matplotlib) (1.16.0)\n",
      "Downloading matplotlib-3.8.3-cp310-cp310-manylinux_2_17_x86_64.manylinux2014_x86_64.whl (11.6 MB)\n",
      "\u001b[2K   \u001b[90m━━━━━━━━━━━━━━━━━━━━━━━━━━━━━━━━━━━━━━━━\u001b[0m \u001b[32m11.6/11.6 MB\u001b[0m \u001b[31m124.5 MB/s\u001b[0m eta \u001b[36m0:00:00\u001b[0m00:01\u001b[0m0:01\u001b[0m\n",
      "\u001b[?25hDownloading contourpy-1.2.0-cp310-cp310-manylinux_2_17_x86_64.manylinux2014_x86_64.whl (310 kB)\n",
      "\u001b[2K   \u001b[90m━━━━━━━━━━━━━━━━━━━━━━━━━━━━━━━━━━━━━━━━\u001b[0m \u001b[32m310.7/310.7 kB\u001b[0m \u001b[31m46.7 MB/s\u001b[0m eta \u001b[36m0:00:00\u001b[0m\n",
      "\u001b[?25hDownloading cycler-0.12.1-py3-none-any.whl (8.3 kB)\n",
      "Downloading fonttools-4.49.0-cp310-cp310-manylinux_2_17_x86_64.manylinux2014_x86_64.whl (4.6 MB)\n",
      "\u001b[2K   \u001b[90m━━━━━━━━━━━━━━━━━━━━━━━━━━━━━━━━━━━━━━━━\u001b[0m \u001b[32m4.6/4.6 MB\u001b[0m \u001b[31m39.3 MB/s\u001b[0m eta \u001b[36m0:00:00\u001b[0m:00:01\u001b[0m\n",
      "\u001b[?25hDownloading kiwisolver-1.4.5-cp310-cp310-manylinux_2_12_x86_64.manylinux2010_x86_64.whl (1.6 MB)\n",
      "\u001b[2K   \u001b[90m━━━━━━━━━━━━━━━━━━━━━━━━━━━━━━━━━━━━━━━━\u001b[0m \u001b[32m1.6/1.6 MB\u001b[0m \u001b[31m13.6 MB/s\u001b[0m eta \u001b[36m0:00:00\u001b[0m:00:01\u001b[0m\n",
      "\u001b[?25hDownloading pillow-10.2.0-cp310-cp310-manylinux_2_17_x86_64.manylinux2014_x86_64.whl (4.4 MB)\n",
      "\u001b[2K   \u001b[90m━━━━━━━━━━━━━━━━━━━━━━━━━━━━━━━━━━━━━━━━\u001b[0m \u001b[32m4.4/4.4 MB\u001b[0m \u001b[31m27.5 MB/s\u001b[0m eta \u001b[36m0:00:00\u001b[0m:00:01\u001b[0m\n",
      "\u001b[?25hInstalling collected packages: pillow, kiwisolver, fonttools, cycler, contourpy, matplotlib\n",
      "Successfully installed contourpy-1.2.0 cycler-0.12.1 fonttools-4.49.0 kiwisolver-1.4.5 matplotlib-3.8.3 pillow-10.2.0\n"
     ]
    }
   ],
   "source": [
    "!pip install 'awswrangler[gremlin, opencypher, sparql]'\n",
    "!pip install igraph networkx\n",
    "!pip install matplotlib"
   ]
  },
  {
   "cell_type": "code",
   "execution_count": 12,
   "id": "e42ef39a-5005-4875-a15a-216be6cf0ec1",
   "metadata": {
    "tags": []
   },
   "outputs": [],
   "source": [
    "from utils.set_env_variables import set_environment_variables\n",
    "import os\n",
    "\n",
    "set_environment_variables()\n",
    "\n",
    "neptune_cluster_id = \"neptunedbcluster-gdaeeuitulg4\"\n",
    "neptune_endpoint= os.getenv('NEPTUNE_ENDPOINT')\n",
    "neptune_port = os.getenv('NEPTUNE_PORT')\n",
    "neptune_auth_mode = os.getenv('NEPTUNE_AUTH_MODE')\n",
    "s3_role_arn = os.getenv('S3_ROLE_ARN')\n",
    "ssl = os.getenv('SSL')\n",
    "ssl_verify = os.getenv('SSL_VERIFY')\n",
    "aws_region = os.getenv('AWS_REGION')"
   ]
  },
  {
   "cell_type": "code",
   "execution_count": 13,
   "id": "f660dee4-4eec-44de-930e-edc99a5ef999",
   "metadata": {
    "tags": []
   },
   "outputs": [],
   "source": [
    "import pandas as pd\n",
    "\n",
    "import awswrangler as wr\n",
    "\n",
    "url = neptune_endpoint  # The Neptune Cluster endpoint\n",
    "iam_enabled = False  # Set to True/False based on the configuration of your cluster\n",
    "neptune_port = 8182  # Set to the Neptune Cluster Port, Default is 8182\n",
    "client = wr.neptune.connect(url, neptune_port, iam_enabled=iam_enabled)"
   ]
  },
  {
   "cell_type": "code",
   "execution_count": 14,
   "id": "44663595-0263-476f-9c39-d86c56dde6c8",
   "metadata": {
    "tags": []
   },
   "outputs": [
    {
     "name": "stdout",
     "output_type": "stream",
     "text": [
      "{'status': 'healthy', 'startTime': 'Wed Feb 21 00:43:34 UTC 2024', 'dbEngineVersion': '1.3.0.0.R1', 'role': 'writer', 'dfeQueryEngine': 'viaQueryHint', 'gremlin': {'version': 'tinkerpop-3.6.4'}, 'sparql': {'version': 'sparql-1.1'}, 'opencypher': {'version': 'Neptune-9.0.20190305-1.0'}, 'labMode': {'ObjectIndex': 'disabled', 'ReadWriteConflictDetection': 'enabled'}, 'features': {'SlowQueryLogs': 'disabled', 'ResultCache': {'status': 'disabled'}, 'IAMAuthentication': 'disabled', 'Streams': 'disabled', 'AuditLog': 'enabled'}, 'settings': {'clusterQueryTimeoutInMs': '120000', 'SlowQueryLogsThreshold': '5000'}}\n"
     ]
    }
   ],
   "source": [
    "print(client.status())"
   ]
  },
  {
   "cell_type": "code",
   "execution_count": 15,
   "id": "86936912-636d-4dcf-8c7b-a0925b28733f",
   "metadata": {
    "tags": []
   },
   "outputs": [
    {
     "data": {
      "text/html": [
       "<div>\n",
       "<style scoped>\n",
       "    .dataframe tbody tr th:only-of-type {\n",
       "        vertical-align: middle;\n",
       "    }\n",
       "\n",
       "    .dataframe tbody tr th {\n",
       "        vertical-align: top;\n",
       "    }\n",
       "\n",
       "    .dataframe thead th {\n",
       "        text-align: right;\n",
       "    }\n",
       "</style>\n",
       "<table border=\"1\" class=\"dataframe\">\n",
       "  <thead>\n",
       "    <tr style=\"text-align: right;\">\n",
       "      <th></th>\n",
       "      <th>source</th>\n",
       "      <th>target</th>\n",
       "    </tr>\n",
       "  </thead>\n",
       "  <tbody>\n",
       "    <tr>\n",
       "      <th>0</th>\n",
       "      <td>ed98d70ba6e24374aa136fad8a162c5d</td>\n",
       "      <td>account-2199023257128</td>\n",
       "    </tr>\n",
       "    <tr>\n",
       "      <th>1</th>\n",
       "      <td>71049bea88004f4bba80d5ee47ad8fc0</td>\n",
       "      <td>account-30786325580428</td>\n",
       "    </tr>\n",
       "    <tr>\n",
       "      <th>2</th>\n",
       "      <td>9a835d6c0b92425998d3f1c328300937</td>\n",
       "      <td>account-6597069773744</td>\n",
       "    </tr>\n",
       "    <tr>\n",
       "      <th>3</th>\n",
       "      <td>6a8b5644ecca4c68bfdf83f1fcea730b</td>\n",
       "      <td>account-4398046512636</td>\n",
       "    </tr>\n",
       "    <tr>\n",
       "      <th>4</th>\n",
       "      <td>1cc89eeb3f384fdbb2e472a5dec3cb22</td>\n",
       "      <td>account-4398046511535</td>\n",
       "    </tr>\n",
       "  </tbody>\n",
       "</table>\n",
       "</div>"
      ],
      "text/plain": [
       "                             source                  target\n",
       "0  ed98d70ba6e24374aa136fad8a162c5d   account-2199023257128\n",
       "1  71049bea88004f4bba80d5ee47ad8fc0  account-30786325580428\n",
       "2  9a835d6c0b92425998d3f1c328300937   account-6597069773744\n",
       "3  6a8b5644ecca4c68bfdf83f1fcea730b   account-4398046512636\n",
       "4  1cc89eeb3f384fdbb2e472a5dec3cb22   account-4398046511535"
      ]
     },
     "metadata": {},
     "output_type": "display_data"
    }
   ],
   "source": [
    "query = \"g.E().project('source', 'target').by(outV().id()).by(inV().id()).limit(5)\"\n",
    "df = wr.neptune.execute_gremlin(client, query)\n",
    "display(df.head(5))"
   ]
  },
  {
   "cell_type": "code",
   "execution_count": 16,
   "id": "3c9f916d-982c-4e8e-ab97-076b0cc9f067",
   "metadata": {
    "tags": []
   },
   "outputs": [
    {
     "data": {
      "text/html": [
       "<div>\n",
       "<style scoped>\n",
       "    .dataframe tbody tr th:only-of-type {\n",
       "        vertical-align: middle;\n",
       "    }\n",
       "\n",
       "    .dataframe tbody tr th {\n",
       "        vertical-align: top;\n",
       "    }\n",
       "\n",
       "    .dataframe thead th {\n",
       "        text-align: right;\n",
       "    }\n",
       "</style>\n",
       "<table border=\"1\" class=\"dataframe\">\n",
       "  <thead>\n",
       "    <tr style=\"text-align: right;\">\n",
       "      <th></th>\n",
       "    </tr>\n",
       "  </thead>\n",
       "  <tbody>\n",
       "  </tbody>\n",
       "</table>\n",
       "</div>"
      ],
      "text/plain": [
       "Empty DataFrame\n",
       "Columns: []\n",
       "Index: []"
      ]
     },
     "metadata": {},
     "output_type": "display_data"
    }
   ],
   "source": [
    "import networkx as nx\n",
    "\n",
    "# Retrieve Data from neptune\n",
    "client = wr.neptune.connect(url, 8182, iam_enabled=False)\n",
    "query = \"MATCH (n)-[r]->(d) RETURN id(n) as source, id(d) as target LIMIT 100\"\n",
    "df = wr.neptune.execute_opencypher(client, query)\n",
    "\n",
    "# Run PageRank\n",
    "G = nx.from_pandas_edgelist(df, edge_attr=True)\n",
    "pg = nx.pagerank(G)\n",
    "\n",
    "# Save values back into Neptune\n",
    "rows = []\n",
    "for k in pg.keys():\n",
    "    rows.append({\"~id\": k, \"pageRank_nx(single)\": pg[k]})\n",
    "pg_df = pd.DataFrame(rows, columns=[\"~id\", \"pageRank_nx(single)\"])\n",
    "res = wr.neptune.to_property_graph(client, pg_df, use_header_cardinality=True)\n",
    "\n",
    "# Retrieve newly saved data\n",
    "query = (\n",
    "    \"MATCH (n:airport) WHERE n.pageRank_nx IS NOT NULL RETURN n.code, n.pageRank_nx ORDER BY n.pageRank_nx DESC LIMIT 5\"\n",
    ")\n",
    "df = wr.neptune.execute_opencypher(client, query)\n",
    "display(df)"
   ]
  },
  {
   "cell_type": "code",
   "execution_count": 19,
   "id": "bd042ecb-1d56-410f-902f-7e969a89d875",
   "metadata": {
    "tags": []
   },
   "outputs": [
    {
     "data": {
      "text/html": [
       "<div>\n",
       "<style scoped>\n",
       "    .dataframe tbody tr th:only-of-type {\n",
       "        vertical-align: middle;\n",
       "    }\n",
       "\n",
       "    .dataframe tbody tr th {\n",
       "        vertical-align: top;\n",
       "    }\n",
       "\n",
       "    .dataframe thead th {\n",
       "        text-align: right;\n",
       "    }\n",
       "</style>\n",
       "<table border=\"1\" class=\"dataframe\">\n",
       "  <thead>\n",
       "    <tr style=\"text-align: right;\">\n",
       "      <th></th>\n",
       "      <th>p</th>\n",
       "      <th>o</th>\n",
       "    </tr>\n",
       "  </thead>\n",
       "  <tbody>\n",
       "    <tr>\n",
       "      <th>0</th>\n",
       "      <td>http://aws.amazon.com/neptune/default/5197cca2...</td>\n",
       "      <td>http://aws.amazon.com/neptune/default/762</td>\n",
       "    </tr>\n",
       "    <tr>\n",
       "      <th>1</th>\n",
       "      <td>http://aws.amazon.com/neptune/default/54da17b4...</td>\n",
       "      <td>http://aws.amazon.com/neptune/default/316</td>\n",
       "    </tr>\n",
       "    <tr>\n",
       "      <th>2</th>\n",
       "      <td>http://aws.amazon.com/neptune/default/e7d5f78d...</td>\n",
       "      <td>http://aws.amazon.com/neptune/default/337</td>\n",
       "    </tr>\n",
       "  </tbody>\n",
       "</table>\n",
       "</div>"
      ],
      "text/plain": [
       "                                                   p  \\\n",
       "0  http://aws.amazon.com/neptune/default/5197cca2...   \n",
       "1  http://aws.amazon.com/neptune/default/54da17b4...   \n",
       "2  http://aws.amazon.com/neptune/default/e7d5f78d...   \n",
       "\n",
       "                                           o  \n",
       "0  http://aws.amazon.com/neptune/default/762  \n",
       "1  http://aws.amazon.com/neptune/default/316  \n",
       "2  http://aws.amazon.com/neptune/default/337  "
      ]
     },
     "metadata": {},
     "output_type": "display_data"
    }
   ],
   "source": [
    "import uuid\n",
    "import random\n",
    "\n",
    "def _create_dummy_triple(s: str = \"foo\"):\n",
    "    return {\n",
    "        \"s\": s,\n",
    "        \"p\": str(uuid.uuid4()),\n",
    "        \"o\": random.randint(0, 1000),\n",
    "    }\n",
    "\n",
    "\n",
    "label = f\"foo_{uuid.uuid4()}\"\n",
    "data = [_create_dummy_triple(label), _create_dummy_triple(label), _create_dummy_triple(label)]\n",
    "df = pd.DataFrame(data)\n",
    "res = wr.neptune.to_rdf_graph(client, df)\n",
    "\n",
    "query = f\"SELECT ?p ?o WHERE {{ <{label}> ?p ?o .}}\"\n",
    "df = wr.neptune.execute_sparql(client, query)\n",
    "display(df)"
   ]
  },
  {
   "cell_type": "code",
   "execution_count": 23,
   "id": "ddfeffbe-2d6a-4fdf-9f80-7a16b337e7e1",
   "metadata": {
    "tags": []
   },
   "outputs": [
    {
     "name": "stdout",
     "output_type": "stream",
     "text": [
      "['A', 'H', 'G', 'F', 'E']\n"
     ]
    },
    {
     "data": {
      "image/png": "[encoded data removed]",
      "text/plain": [
       "<Figure size 640x480 with 1 Axes>"
      ]
     },
     "metadata": {},
     "output_type": "display_data"
    }
   ],
   "source": [
    "\"\"\"\n",
    "==================\n",
    "Find Shortest Path\n",
    "==================\n",
    "\n",
    "Finding the shortest path between 2 nodes of a given graph\n",
    "using `shortest_path` function.\n",
    "\n",
    "\"\"\"\n",
    "\n",
    "import networkx as nx\n",
    "import matplotlib.pyplot as plt\n",
    "\n",
    "# Create a graph with nodes and edges\n",
    "G = nx.Graph()\n",
    "G.add_nodes_from([\"A\", \"B\", \"C\", \"D\", \"E\", \"F\", \"G\", \"H\"])\n",
    "G.add_edge(\"A\", \"B\", weight=4)\n",
    "G.add_edge(\"A\", \"H\", weight=8)\n",
    "G.add_edge(\"B\", \"C\", weight=8)\n",
    "G.add_edge(\"B\", \"H\", weight=11)\n",
    "G.add_edge(\"C\", \"D\", weight=7)\n",
    "G.add_edge(\"C\", \"F\", weight=4)\n",
    "G.add_edge(\"C\", \"I\", weight=2)\n",
    "G.add_edge(\"D\", \"E\", weight=9)\n",
    "G.add_edge(\"D\", \"F\", weight=14)\n",
    "G.add_edge(\"E\", \"F\", weight=10)\n",
    "G.add_edge(\"F\", \"G\", weight=2)\n",
    "G.add_edge(\"G\", \"H\", weight=1)\n",
    "G.add_edge(\"G\", \"I\", weight=6)\n",
    "G.add_edge(\"H\", \"I\", weight=7)\n",
    "\n",
    "# Find the shortest path from node A to node E\n",
    "path = nx.shortest_path(G, \"A\", \"E\", weight=\"weight\")\n",
    "print(path)\n",
    "\n",
    "# Create a list of edges in the shortest path\n",
    "path_edges = list(zip(path, path[1:]))\n",
    "\n",
    "# Create a list of all edges, and assign colors based on whether they are in the shortest path or not\n",
    "edge_colors = [\n",
    "    \"red\" if edge in path_edges or tuple(reversed(edge)) in path_edges else \"black\"\n",
    "    for edge in G.edges()\n",
    "]\n",
    "\n",
    "# Visualize the graph\n",
    "pos = nx.spring_layout(G)\n",
    "nx.draw_networkx_nodes(G, pos)\n",
    "nx.draw_networkx_edges(G, pos, edge_color=edge_colors)\n",
    "nx.draw_networkx_labels(G, pos)\n",
    "nx.draw_networkx_edge_labels(\n",
    "    G, pos, edge_labels={(u, v): d[\"weight\"] for u, v, d in G.edges(data=True)}\n",
    ")\n",
    "\n",
    "plt.show()"
   ]
  },
  {
   "cell_type": "code",
   "execution_count": null,
   "id": "45eaf063-b338-4b9d-96bb-64ae53462d25",
   "metadata": {},
   "outputs": [],
   "source": []
  }
 ],
 "metadata": {
  "kernelspec": {
   "display_name": "Python 3",
   "language": "python",
   "name": "python3"
  },
  "language_info": {
   "codemirror_mode": {
    "name": "ipython",
    "version": 3
   },
   "file_extension": ".py",
   "mimetype": "text/x-python",
   "name": "python",
   "nbconvert_exporter": "python",
   "pygments_lexer": "ipython3",
   "version": "3.10.8"
  }
 },
 "nbformat": 4,
 "nbformat_minor": 5
}
