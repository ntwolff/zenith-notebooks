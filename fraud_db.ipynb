{
 "cells": [
  {
   "cell_type": "markdown",
   "id": "1b2e6acc-7f4d-4992-b905-d7cd8c92f86d",
   "metadata": {},
   "source": [
    "# Fraud Database\n",
    "\n",
    "An exploration of the fraud detection capabilities of the Gremlin language on AWS seed data."
   ]
  },
  {
   "cell_type": "markdown",
   "id": "a2fefb31-f8fd-41c9-aca6-859c3166a9a6",
   "metadata": {},
   "source": [
    "## Set-up"
   ]
  },
  {
   "cell_type": "markdown",
   "id": "4d5f4db0-cd86-4aa1-a1da-7fc3c6d64110",
   "metadata": {},
   "source": [
    "**Graph connection configuration**"
   ]
  },
  {
   "cell_type": "markdown",
   "id": "d42ff533-d3dd-4ba3-be0c-30553dc40f33",
   "metadata": {
    "tags": []
   },
   "source": [
    "*Neptune database notebook config*"
   ]
  },
  {
   "cell_type": "code",
   "execution_count": 3,
   "id": "b83de84c-d0b5-463d-afb5-456a3c6d0ae5",
   "metadata": {
    "collapsed": true,
    "jupyter": {
     "outputs_hidden": true
    },
    "tags": []
   },
   "outputs": [
    {
     "name": "stdout",
     "output_type": "stream",
     "text": [
      "set notebook config to:\n",
      "{\n",
      "  \"host\": \"neptunecdkclusterinstance1f-0c3kvhl8un1k.cvvkcjt8raco.us-east-2.neptune.amazonaws.com\",\n",
      "  \"neptune_service\": \"neptune-db\",\n",
      "  \"port\": 8182,\n",
      "  \"proxy_host\": \"\",\n",
      "  \"proxy_port\": 8182,\n",
      "  \"auth_mode\": \"DEFAULT\",\n",
      "  \"load_from_s3_arn\": \"arn:aws:iam::299651194944:role/AWSNeptuneNotebookRole-CDK\",\n",
      "  \"ssl\": true,\n",
      "  \"ssl_verify\": true,\n",
      "  \"aws_region\": \"us-east-2\",\n",
      "  \"sparql\": {\n",
      "    \"path\": \"\"\n",
      "  },\n",
      "  \"gremlin\": {\n",
      "    \"traversal_source\": \"g\",\n",
      "    \"username\": \"\",\n",
      "    \"password\": \"\",\n",
      "    \"message_serializer\": \"graphsonv3\"\n",
      "  },\n",
      "  \"neo4j\": {\n",
      "    \"username\": \"neo4j\",\n",
      "    \"password\": \"password\",\n",
      "    \"auth\": true,\n",
      "    \"database\": null\n",
      "  }\n",
      "}\n"
     ]
    },
    {
     "data": {
      "text/plain": [
       "<graph_notebook.configuration.generate_config.Configuration at 0x7f4b418c1780>"
      ]
     },
     "execution_count": 3,
     "metadata": {},
     "output_type": "execute_result"
    }
   ],
   "source": [
    "%%graph_notebook_config\n",
    "{\n",
    "  \"host\": \"neptunecdkclusterinstance1f-0c3kvhl8un1k.cvvkcjt8raco.us-east-2.neptune.amazonaws.com\",\n",
    "  \"neptune_service\": \"neptune-db\",\n",
    "  \"port\": 8182,\n",
    "  \"auth_mode\": \"DEFAULT\",\n",
    "  \"load_from_s3_arn\": \"arn:aws:iam::299651194944:role/AWSNeptuneNotebookRole-CDK\",\n",
    "  \"ssl\": true,\n",
    "  \"ssl_verify\": true,\n",
    "  \"aws_region\": \"us-east-2\"\n",
    "}"
   ]
  },
  {
   "cell_type": "markdown",
   "id": "dacd795c-60c0-4979-807f-c992ad3bf46e",
   "metadata": {},
   "source": [
    "**Data seeding**"
   ]
  },
  {
   "cell_type": "code",
   "execution_count": 4,
   "id": "a8905a66-4de4-432f-8be4-d7740a5bdb94",
   "metadata": {
    "tags": []
   },
   "outputs": [
    {
     "data": {
      "application/vnd.jupyter.widget-view+json": {
       "model_id": "e8dd30434aba47a7945c668f31eea08a",
       "version_major": 2,
       "version_minor": 0
      },
      "text/plain": [
       "Dropdown(description='Source type:', options=('', 'samples', 'custom'), style=DescriptionStyle(description_wid…"
      ]
     },
     "metadata": {},
     "output_type": "display_data"
    },
    {
     "data": {
      "application/vnd.jupyter.widget-view+json": {
       "model_id": "2b5364c307d24e41a4e4bc1560556026",
       "version_major": 2,
       "version_minor": 0
      },
      "text/plain": [
       "Dropdown(description='Data model:', layout=Layout(display='none', visibility='hidden'), options=('', 'property…"
      ]
     },
     "metadata": {},
     "output_type": "display_data"
    },
    {
     "data": {
      "application/vnd.jupyter.widget-view+json": {
       "model_id": "8df0932d496f482e922964b7ef4fb5c9",
       "version_major": 2,
       "version_minor": 0
      },
      "text/plain": [
       "Dropdown(description='Language:', layout=Layout(display='none', visibility='hidden'), options=('', 'opencypher…"
      ]
     },
     "metadata": {},
     "output_type": "display_data"
    },
    {
     "data": {
      "application/vnd.jupyter.widget-view+json": {
       "model_id": "7c9e6f0e5cb64cccbfc92bf3c656a242",
       "version_major": 2,
       "version_minor": 0
      },
      "text/plain": [
       "Dropdown(description='Language:', layout=Layout(display='none', visibility='hidden'), options=('', 'opencypher…"
      ]
     },
     "metadata": {},
     "output_type": "display_data"
    },
    {
     "data": {
      "application/vnd.jupyter.widget-view+json": {
       "model_id": "58e0925d1419492abd75a18b91f7e953",
       "version_major": 2,
       "version_minor": 0
      },
      "text/plain": [
       "Dropdown(description='Data set:', layout=Layout(display='none', visibility='hidden'), options=(), style=Descri…"
      ]
     },
     "metadata": {},
     "output_type": "display_data"
    },
    {
     "data": {
      "application/vnd.jupyter.widget-view+json": {
       "model_id": "fe38a4af1aac41b29f13d0b3d1746d6c",
       "version_major": 2,
       "version_minor": 0
      },
      "text/plain": [
       "Dropdown(description='Full File Query:', index=1, layout=Layout(display='none', visibility='hidden'), options=…"
      ]
     },
     "metadata": {},
     "output_type": "display_data"
    },
    {
     "data": {
      "application/vnd.jupyter.widget-view+json": {
       "model_id": "9cc520b71c2d4686ad4b0afd7fe27ef6",
       "version_major": 2,
       "version_minor": 0
      },
      "text/plain": [
       "Dropdown(description='Location:', layout=Layout(display='none', visibility='hidden'), options=('Local', 'S3'),…"
      ]
     },
     "metadata": {},
     "output_type": "display_data"
    },
    {
     "data": {
      "application/vnd.jupyter.widget-view+json": {
       "model_id": "4bb79d61f4cd40628ab99c8e42856751",
       "version_major": 2,
       "version_minor": 0
      },
      "text/plain": [
       "FileChooser(path='/home/ec2-user/SageMaker/Neptune/Zenith', filename='', title='', show_hidden=False, select_d…"
      ]
     },
     "metadata": {},
     "output_type": "display_data"
    },
    {
     "data": {
      "application/vnd.jupyter.widget-view+json": {
       "model_id": "22ea6d4bb8924e2ea5a1b152847e0dd8",
       "version_major": 2,
       "version_minor": 0
      },
      "text/plain": [
       "HBox(children=(Text(value='', description='Source:', placeholder='path/to/seedfiles/directory', style=Descript…"
      ]
     },
     "metadata": {},
     "output_type": "display_data"
    },
    {
     "data": {
      "application/vnd.jupyter.widget-view+json": {
       "model_id": "",
       "version_major": 2,
       "version_minor": 0
      },
      "text/plain": [
       "Button(description='Submit', layout=Layout(visibility='hidden'), style=ButtonStyle())"
      ]
     },
     "metadata": {},
     "output_type": "display_data"
    },
    {
     "data": {
      "application/vnd.jupyter.widget-view+json": {
       "model_id": "826e457f3f6c419bb4537754ae67e7ab",
       "version_major": 2,
       "version_minor": 0
      },
      "text/plain": [
       "Output()"
      ]
     },
     "metadata": {},
     "output_type": "display_data"
    },
    {
     "data": {
      "application/vnd.jupyter.widget-view+json": {
       "model_id": "8fad445efd754e69b8b01b1b59fa4fa4",
       "version_major": 2,
       "version_minor": 0
      },
      "text/plain": [
       "Output()"
      ]
     },
     "metadata": {},
     "output_type": "display_data"
    }
   ],
   "source": [
    "%seed --model Property_Graph --language gremlin --dataset fraud_graph --run"
   ]
  },
  {
   "cell_type": "markdown",
   "id": "e9141244-d009-442a-beea-a2b37b2a2557",
   "metadata": {
    "tags": []
   },
   "source": [
    "**Graph visualization configuration**"
   ]
  },
  {
   "cell_type": "code",
   "execution_count": 9,
   "id": "ae06a09e-7319-4188-9b06-9da2484296d3",
   "metadata": {
    "tags": []
   },
   "outputs": [
    {
     "name": "stdout",
     "output_type": "stream",
     "text": [
      "Visualization settings successfully changed to:\n",
      "\n",
      "{\n",
      "  \"interaction\": {\n",
      "    \"selectConnectedEdges\": false,\n",
      "    \"hoverConnectedEdges\": true,\n",
      "    \"hover\": true\n",
      "  },\n",
      "  \"groups\": {\n",
      "    \"Transaction\": {\n",
      "      \"shape\": \"icon\",\n",
      "      \"icon\": {\n",
      "        \"face\": \"FontAwesome\",\n",
      "        \"code\": \"\\uf155\",\n",
      "        \"color\": \"green\"\n",
      "      }\n",
      "    },\n",
      "    \"IpAddress\": {\n",
      "      \"shape\": \"icon\",\n",
      "      \"icon\": {\n",
      "        \"face\": \"FontAwesome\",\n",
      "        \"code\": \"\\uf109\",\n",
      "        \"color\": \"blue\"\n",
      "      }\n",
      "    },\n",
      "    \"DateOfBirth\": {\n",
      "      \"shape\": \"icon\",\n",
      "      \"icon\": {\n",
      "        \"face\": \"FontAwesome\",\n",
      "        \"code\": \"\\uf1fd\",\n",
      "        \"color\": \"blue\"\n",
      "      }\n",
      "    },\n",
      "    \"Address\": {\n",
      "      \"shape\": \"icon\",\n",
      "      \"icon\": {\n",
      "        \"face\": \"FontAwesome\",\n",
      "        \"code\": \"\\uf015\",\n",
      "        \"color\": \"blue\"\n",
      "      }\n",
      "    },\n",
      "    \"PhoneNumber\": {\n",
      "      \"shape\": \"icon\",\n",
      "      \"icon\": {\n",
      "        \"face\": \"FontAwesome\",\n",
      "        \"code\": \"\\uf095\",\n",
      "        \"color\": \"blue\"\n",
      "      }\n",
      "    },\n",
      "    \"EmailAddress\": {\n",
      "      \"shape\": \"icon\",\n",
      "      \"icon\": {\n",
      "        \"face\": \"FontAwesome\",\n",
      "        \"code\": \"\\uf1fa\",\n",
      "        \"color\": \"blue\"\n",
      "      }\n",
      "    },\n",
      "    \"Account\": {\n",
      "      \"shape\": \"icon\",\n",
      "      \"icon\": {\n",
      "        \"face\": \"FontAwesome\",\n",
      "        \"code\": \"\\uf2bb\",\n",
      "        \"color\": \"red\"\n",
      "      }\n",
      "    },\n",
      "    \"Merchant\": {\n",
      "      \"shape\": \"icon\",\n",
      "      \"icon\": {\n",
      "        \"face\": \"FontAwesome\",\n",
      "        \"code\": \"\\uf290\",\n",
      "        \"color\": \"orange\"\n",
      "      }\n",
      "    }\n",
      "  },\n",
      "  \"edges\": {\n",
      "    \"arrows\": {\n",
      "      \"to\": {\n",
      "        \"enabled\": false,\n",
      "        \"type\": \"arrow\"\n",
      "      }\n",
      "    },\n",
      "    \"smooth\": {\n",
      "      \"enabled\": true,\n",
      "      \"type\": \"straightCross\"\n",
      "    },\n",
      "    \"color\": {\n",
      "      \"inherit\": false\n",
      "    },\n",
      "    \"font\": {\n",
      "      \"face\": \"courier new\"\n",
      "    }\n",
      "  },\n",
      "  \"physics\": {\n",
      "    \"stabilization\": {\n",
      "      \"enabled\": true,\n",
      "      \"iterations\": 1\n",
      "    },\n",
      "    \"solver\": \"barnesHut\",\n",
      "    \"enabled\": true,\n",
      "    \"barnesHut\": {\n",
      "      \"springConstant\": 0.04,\n",
      "      \"gravitationalConstant\": -50450,\n",
      "      \"damping\": 0.09,\n",
      "      \"centralGravity\": 0.1,\n",
      "      \"springLength\": 95,\n",
      "      \"avoidOverlap\": 0.1\n",
      "    },\n",
      "    \"adaptiveTimestep\": true,\n",
      "    \"minVelocity\": 0.75,\n",
      "    \"simulationDuration\": 1500,\n",
      "    \"disablePhysicsAfterInitialSimulation\": false\n",
      "  },\n",
      "  \"nodes\": {\n",
      "    \"borderWidthSelected\": 0,\n",
      "    \"borderWidth\": 0,\n",
      "    \"color\": {\n",
      "      \"background\": \"rgba(210, 229, 255, 1)\",\n",
      "      \"border\": \"transparent\",\n",
      "      \"highlight\": {\n",
      "        \"background\": \"rgba(9, 104, 178, 1)\",\n",
      "        \"border\": \"rgba(8, 62, 100, 1)\"\n",
      "      }\n",
      "    },\n",
      "    \"shadow\": {\n",
      "      \"enabled\": false\n",
      "    },\n",
      "    \"shape\": \"circle\",\n",
      "    \"widthConstraint\": {\n",
      "      \"minimum\": 70,\n",
      "      \"maximum\": 70\n",
      "    },\n",
      "    \"font\": {\n",
      "      \"face\": \"courier new\",\n",
      "      \"color\": \"black\",\n",
      "      \"size\": 12\n",
      "    }\n",
      "  }\n",
      "}\n"
     ]
    }
   ],
   "source": [
    "%%graph_notebook_vis_options\n",
    "\n",
    "{\n",
    "  \"groups\": {\n",
    "    \"Account\": {\n",
    "      \"shape\": \"icon\",\n",
    "      \"icon\": {\n",
    "        \"face\": \"FontAwesome\",\n",
    "        \"code\": \"\\uf2bb\",\n",
    "        \"color\": \"red\"\n",
    "      }\n",
    "    },\n",
    "    \"Transaction\": {\n",
    "      \"shape\": \"icon\",\n",
    "      \"icon\": {\n",
    "        \"face\": \"FontAwesome\",\n",
    "        \"code\": \"\\uf155\",\n",
    "        \"color\": \"green\"\n",
    "      }\n",
    "    },\n",
    "    \"Merchant\": {\n",
    "      \"shape\": \"icon\",\n",
    "      \"icon\": {\n",
    "        \"face\": \"FontAwesome\",\n",
    "        \"code\": \"\\uf290\",\n",
    "        \"color\": \"orange\"\n",
    "      }\n",
    "    },\n",
    "    \"DateOfBirth\": {\n",
    "      \"shape\": \"icon\",\n",
    "      \"icon\": {\n",
    "        \"face\": \"FontAwesome\",\n",
    "        \"code\": \"\\uf1fd\",\n",
    "        \"color\": \"blue\"\n",
    "      }\n",
    "    },\n",
    "    \"EmailAddress\": {\n",
    "      \"shape\": \"icon\",\n",
    "      \"icon\": {\n",
    "        \"face\": \"FontAwesome\",\n",
    "        \"code\": \"\\uf1fa\",\n",
    "        \"color\": \"blue\"\n",
    "      }\n",
    "    },\n",
    "    \"Address\": {\n",
    "      \"shape\": \"icon\",\n",
    "      \"icon\": {\n",
    "        \"face\": \"FontAwesome\",\n",
    "        \"code\": \"\\uf015\",\n",
    "        \"color\": \"blue\"\n",
    "      }\n",
    "    },\n",
    "    \"IpAddress\": {\n",
    "      \"shape\": \"icon\",\n",
    "      \"icon\": {\n",
    "        \"face\": \"FontAwesome\",\n",
    "        \"code\": \"\\uf109\",\n",
    "        \"color\": \"blue\"\n",
    "      }\n",
    "    },\n",
    "    \"PhoneNumber\": {\n",
    "      \"shape\": \"icon\",\n",
    "      \"icon\": {\n",
    "        \"face\": \"FontAwesome\",\n",
    "        \"code\": \"\\uf095\",\n",
    "        \"color\": \"blue\"\n",
    "      }\n",
    "    }\n",
    "  },\n",
    "  \"edges\": {\n",
    "    \"color\": {\n",
    "      \"inherit\": false\n",
    "    },\n",
    "    \"smooth\": {\n",
    "      \"enabled\": true,\n",
    "      \"type\": \"straightCross\"\n",
    "    },\n",
    "    \"arrows\": {\n",
    "      \"to\": {\n",
    "        \"enabled\": false,\n",
    "        \"type\": \"arrow\"\n",
    "      }\n",
    "    },\n",
    "    \"font\": {\n",
    "      \"face\": \"courier new\"\n",
    "    }\n",
    "  },\n",
    "  \"interaction\": {\n",
    "    \"hover\": true,\n",
    "    \"hoverConnectedEdges\": true,\n",
    "    \"selectConnectedEdges\": false\n",
    "  },\n",
    "  \"physics\": {\n",
    "    \"minVelocity\": 0.75,\n",
    "    \"barnesHut\": {\n",
    "      \"centralGravity\": 0.1,\n",
    "      \"gravitationalConstant\": -50450,\n",
    "      \"springLength\": 95,\n",
    "      \"springConstant\": 0.04,\n",
    "      \"damping\": 0.09,\n",
    "      \"avoidOverlap\": 0.1\n",
    "    },\n",
    "    \"solver\": \"barnesHut\",\n",
    "    \"enabled\": true,\n",
    "    \"adaptiveTimestep\": true,\n",
    "    \"stabilization\": {\n",
    "      \"enabled\": true,\n",
    "      \"iterations\": 1\n",
    "    }\n",
    "  }\n",
    "}"
   ]
  },
  {
   "cell_type": "markdown",
   "id": "ade53137-c122-44f2-8b03-877547b14cab",
   "metadata": {},
   "source": [
    "## Queries"
   ]
  },
  {
   "cell_type": "markdown",
   "id": "353c2058-82cf-46d9-93f9-d281f044acc9",
   "metadata": {
    "tags": []
   },
   "source": [
    "## Utilities"
   ]
  },
  {
   "cell_type": "markdown",
   "id": "5f436478-ea07-4e5e-8f34-ace2a0c95ea0",
   "metadata": {},
   "source": [
    "**Data completeness check**"
   ]
  },
  {
   "cell_type": "code",
   "execution_count": 10,
   "id": "58df159d-45fa-494c-828e-50b0dcaaf489",
   "metadata": {
    "tags": []
   },
   "outputs": [
    {
     "data": {
      "application/vnd.jupyter.widget-view+json": {
       "model_id": "fbee4816657d4d6dbcf67f2aba2d10d6",
       "version_major": 2,
       "version_minor": 0
      },
      "text/plain": [
       "Tab(children=(Output(layout=Layout(max_height='600px', max_width='940px', overflow='scroll')), Output(layout=L…"
      ]
     },
     "metadata": {},
     "output_type": "display_data"
    }
   ],
   "source": [
    "%%gremlin --store-to record_count_results\n",
    "g.V()        //find me all nodes\n",
    ".bothE()     //traverse both outgoing and incoming edges\n",
    ".otherV()    //find the node at the end of the edge\n",
    ".dedup()     //remove any duplicates\n",
    ".path()      // <-- now return the path\n",
    ".by(elementMap())\n",
    ".count()  //return the count"
   ]
  },
  {
   "cell_type": "code",
   "execution_count": 11,
   "id": "3ab5d231-750e-4ebf-9827-74e71f3b8eea",
   "metadata": {
    "tags": []
   },
   "outputs": [
    {
     "name": "stdout",
     "output_type": "stream",
     "text": [
      "Success! The data seeding process met expectations with 35,949 records.\n"
     ]
    }
   ],
   "source": [
    "# Define the variable and the expected count\n",
    "expected_count = 35949\n",
    "record_count = record_count_results[0]\n",
    "\n",
    "# Check and print the result\n",
    "if record_count == expected_count:\n",
    "    print(f\"Success! The data seeding process met expectations with {record_count:,} records.\")\n",
    "else:\n",
    "    print(f\"Uh oh: The data seeding process did not meet expectations. Expected {expected_count:,} records but got {record_count:,}.\")"
   ]
  },
  {
   "cell_type": "markdown",
   "id": "e19734cd-0a9d-4562-b22d-cd34c8f1eeb3",
   "metadata": {},
   "source": [
    "**Sample seed data**"
   ]
  },
  {
   "cell_type": "code",
   "execution_count": 12,
   "id": "cbbe4dec-4da4-4f4a-b7a8-f0285b605a82",
   "metadata": {
    "tags": []
   },
   "outputs": [
    {
     "data": {
      "application/vnd.jupyter.widget-view+json": {
       "model_id": "d485d03440f54365a8d150c50677ee4a",
       "version_major": 2,
       "version_minor": 0
      },
      "text/plain": [
       "Tab(children=(Output(layout=Layout(max_height='600px', max_width='940px', overflow='scroll')), Force(network=<…"
      ]
     },
     "metadata": {},
     "output_type": "display_data"
    }
   ],
   "source": [
    "%%gremlin\n",
    "g.V()        //find me all nodes\n",
    ".bothE()     //traverse both outgoing and incoming edges\n",
    ".otherV()    //find the node at the end of the edge\n",
    ".dedup()     //remove any duplicates\n",
    ".path()      // <-- now return the path\n",
    ".by(elementMap())\n",
    ".limit(25)  //return only 25 results"
   ]
  },
  {
   "cell_type": "markdown",
   "id": "d5f53eea-9703-4ff0-bb53-ecdaa9d7af7e",
   "metadata": {},
   "source": [
    "### Accounts"
   ]
  },
  {
   "cell_type": "markdown",
   "id": "ad24628e-5db6-478f-b22e-da1d587abd7a",
   "metadata": {},
   "source": [
    "**A single account and associated features**"
   ]
  },
  {
   "cell_type": "code",
   "execution_count": 13,
   "id": "b3ffa8e0-4842-4064-8123-1e6ec7a99be1",
   "metadata": {
    "tags": []
   },
   "outputs": [
    {
     "data": {
      "application/vnd.jupyter.widget-view+json": {
       "model_id": "7fa86e24c4354fe98d220d9951e008ac",
       "version_major": 2,
       "version_minor": 0
      },
      "text/plain": [
       "Tab(children=(Output(layout=Layout(max_height='600px', max_width='940px', overflow='scroll')), Force(network=<…"
      ]
     },
     "metadata": {},
     "output_type": "display_data"
    }
   ],
   "source": [
    "%%gremlin -g type -p v,inV,outV\n",
    "\n",
    "g.V('account-4398046521820').\n",
    "  in('FEATURE_OF_ACCOUNT').\n",
    "  path().\n",
    "  by(\n",
    "      project('type', 'value').\n",
    "      by(label).\n",
    "      by(valueMap('account_number', 'first_name', 'last_name', 'value'))\n",
    "  )"
   ]
  },
  {
   "cell_type": "markdown",
   "id": "9e06d30f-923a-40ed-bc35-feccbc2b955f",
   "metadata": {
    "tags": []
   },
   "source": [
    "**Two accounts that share the same feature (date of birth)**"
   ]
  },
  {
   "cell_type": "code",
   "execution_count": 14,
   "id": "9772b040-c3c0-424c-9236-9c5b46edfed2",
   "metadata": {
    "tags": []
   },
   "outputs": [
    {
     "data": {
      "application/vnd.jupyter.widget-view+json": {
       "model_id": "6fa51119aeda4582b7fcce270643ba18",
       "version_major": 2,
       "version_minor": 0
      },
      "text/plain": [
       "Tab(children=(Output(layout=Layout(max_height='600px', max_width='940px', overflow='scroll')), Force(network=<…"
      ]
     },
     "metadata": {},
     "output_type": "display_data"
    }
   ],
   "source": [
    "%%gremlin -g type -p v,inV,outV\n",
    "\n",
    "g.V('account-8853').\n",
    "  in('FEATURE_OF_ACCOUNT').\n",
    "  out('FEATURE_OF_ACCOUNT').\n",
    "  simplePath().\n",
    "  path().\n",
    "  by(\n",
    "      project('type', 'value').\n",
    "      by(label).\n",
    "      by(valueMap('account_number', 'value', 'amount', 'created', 'name'))\n",
    "  )"
   ]
  },
  {
   "cell_type": "markdown",
   "id": "86843f4b-a076-4799-9e78-83818fe595ae",
   "metadata": {},
   "source": [
    "### Transactions"
   ]
  },
  {
   "cell_type": "markdown",
   "id": "2b9a0b66-e803-4184-8751-d3944c346b8f",
   "metadata": {},
   "source": [
    "**Single transaction between account and merchant**"
   ]
  },
  {
   "cell_type": "code",
   "execution_count": 13,
   "id": "72bb9205-ca46-49bd-b41d-263978d3490b",
   "metadata": {
    "tags": []
   },
   "outputs": [
    {
     "data": {
      "application/vnd.jupyter.widget-view+json": {
       "model_id": "e848e7ee3a124e8fbea2f1b41459e87f",
       "version_major": 2,
       "version_minor": 0
      },
      "text/plain": [
       "Tab(children=(Output(layout=Layout(max_height='600px', max_width='940px', overflow='scroll')), Force(network=<…"
      ]
     },
     "metadata": {},
     "output_type": "display_data"
    }
   ],
   "source": [
    "%%gremlin -g type -p v,outV,inV\n",
    "\n",
    "g.V('account-8698').\n",
    "  in('ACCOUNT').limit(1).\n",
    "  union(\n",
    "      out('MERCHANT'),\n",
    "      in('FEATURE_OF_TRANSACTION')\n",
    "  ).\n",
    "  path().\n",
    "  by(\n",
    "      project('type', 'value').\n",
    "      by(label).\n",
    "      by(valueMap('account_number', 'created', 'amount', 'name', 'value'))\n",
    "  )"
   ]
  },
  {
   "cell_type": "markdown",
   "id": "4c694735-99b9-4f9b-b362-6a0d72d6c49e",
   "metadata": {},
   "source": [
    "**All transactions for an account**"
   ]
  },
  {
   "cell_type": "code",
   "execution_count": 14,
   "id": "b4e57cb0-82ec-490f-b220-6f5bdc4948ac",
   "metadata": {
    "tags": []
   },
   "outputs": [
    {
     "data": {
      "application/vnd.jupyter.widget-view+json": {
       "model_id": "465a59587c39447f888e13afbf52a5aa",
       "version_major": 2,
       "version_minor": 0
      },
      "text/plain": [
       "Tab(children=(Output(layout=Layout(max_height='600px', max_width='940px', overflow='scroll')), Force(network=<…"
      ]
     },
     "metadata": {},
     "output_type": "display_data"
    }
   ],
   "source": [
    "%%gremlin -g type -p v,outV,inV\n",
    "\n",
    "g.V('account-8698').\n",
    "  in('ACCOUNT').\n",
    "  union(\n",
    "      out('MERCHANT'),\n",
    "      in('FEATURE_OF_TRANSACTION')\n",
    "  ).\n",
    "  path().\n",
    "  by(\n",
    "      project('type', 'value').\n",
    "      by(label).\n",
    "      by(valueMap('account_number', 'created', 'amount', 'name', 'value'))\n",
    "  )"
   ]
  },
  {
   "cell_type": "markdown",
   "id": "db165832-f91c-42da-90a9-c95d09bbc640",
   "metadata": {},
   "source": [
    "**Finding shared households**"
   ]
  },
  {
   "cell_type": "code",
   "execution_count": 15,
   "id": "451ba15e-88fa-40ef-bae0-81d1844b8502",
   "metadata": {
    "tags": []
   },
   "outputs": [
    {
     "data": {
      "application/vnd.jupyter.widget-view+json": {
       "model_id": "829aa88a1c6f495692c6ac4a92f953e2",
       "version_major": 2,
       "version_minor": 0
      },
      "text/plain": [
       "Tab(children=(Output(layout=Layout(max_height='600px', max_width='940px', overflow='scroll')), Force(network=<…"
      ]
     },
     "metadata": {},
     "output_type": "display_data"
    }
   ],
   "source": [
    "%%gremlin -g type -p v,outV,inV\n",
    "\n",
    "g.V().hasLabel('IpAddress').\n",
    "  where(\n",
    "      out('FEATURE_OF_ACCOUNT').count().is(eq(2))).\n",
    "  where(\n",
    "      out('FEATURE_OF_ACCOUNT').\n",
    "      in('FEATURE_OF_ACCOUNT').hasLabel('Address').dedup().count().is(eq(1)) \n",
    "  ).\n",
    "  limit(5).\n",
    "  out('FEATURE_OF_ACCOUNT').\n",
    "  in('FEATURE_OF_ACCOUNT').\n",
    "  simplePath().\n",
    "  path().\n",
    "  by(\n",
    "      project('type', 'value').\n",
    "      by(label).\n",
    "      by(valueMap('account_number', 'value', 'amount', 'created', 'name'))\n",
    "  )"
   ]
  },
  {
   "cell_type": "markdown",
   "id": "b95a8414-f2b3-4a55-978b-ef484d149716",
   "metadata": {},
   "source": [
    "### Query - Fraud Rings"
   ]
  },
  {
   "cell_type": "markdown",
   "id": "f565aef8-223c-489a-b596-d87927cf334e",
   "metadata": {},
   "source": [
    "**Accounts with many shared features (possible fraud ring)**"
   ]
  },
  {
   "cell_type": "code",
   "execution_count": 16,
   "id": "d0e47b27-97ae-46c4-876f-98a663980368",
   "metadata": {
    "tags": []
   },
   "outputs": [
    {
     "data": {
      "application/vnd.jupyter.widget-view+json": {
       "model_id": "f8917bf39ee2425586d7dc4e1727d9e6",
       "version_major": 2,
       "version_minor": 0
      },
      "text/plain": [
       "Tab(children=(Output(layout=Layout(max_height='600px', max_width='940px', overflow='scroll')), Force(network=<…"
      ]
     },
     "metadata": {},
     "output_type": "display_data"
    }
   ],
   "source": [
    "%%gremlin -g type -p v,inV,outV\n",
    "\n",
    "g.V('account-4398046519460').\n",
    "  in('FEATURE_OF_ACCOUNT').\n",
    "  out('FEATURE_OF_ACCOUNT').\n",
    "  simplePath().\n",
    "  path().\n",
    "  by(\n",
    "      project('type', 'value').\n",
    "      by(label).\n",
    "      by(valueMap('account_number', 'value', 'amount', 'created', 'name'))\n",
    "  )"
   ]
  },
  {
   "cell_type": "markdown",
   "id": "b34db176-fc5b-4e24-b154-ea005f19955b",
   "metadata": {},
   "source": [
    "**Extended fraud ring (two hops)**"
   ]
  },
  {
   "cell_type": "code",
   "execution_count": 17,
   "id": "edebda3f-8589-4191-ae4f-de4c997a0d3d",
   "metadata": {
    "tags": []
   },
   "outputs": [
    {
     "data": {
      "application/vnd.jupyter.widget-view+json": {
       "model_id": "c05645e8623844bba1b990883d82e074",
       "version_major": 2,
       "version_minor": 0
      },
      "text/plain": [
       "Tab(children=(Output(layout=Layout(max_height='600px', max_width='940px', overflow='scroll')), Force(network=<…"
      ]
     },
     "metadata": {},
     "output_type": "display_data"
    }
   ],
   "source": [
    "%%gremlin -g type -p v,inV,outV,inV,outV\n",
    "\n",
    "g.V('account-4398046519460').\n",
    "  emit().\n",
    "  repeat(\n",
    "      in('FEATURE_OF_ACCOUNT').\n",
    "      out('FEATURE_OF_ACCOUNT').\n",
    "      simplePath()\n",
    "  ).times(2). \n",
    "  path().\n",
    "  by(\n",
    "      project('type', 'value').\n",
    "      by(label).\n",
    "      by(valueMap('account_number', 'value'))\n",
    "  )"
   ]
  },
  {
   "cell_type": "markdown",
   "id": "6607e60d-edb4-40de-958d-535d80b96c47",
   "metadata": {},
   "source": [
    "**Finding all transactions linked to the potential ring**\n",
    "*Account focused*"
   ]
  },
  {
   "cell_type": "code",
   "execution_count": 18,
   "id": "a2dab67e-1287-47fc-b835-84d91817eab6",
   "metadata": {
    "tags": []
   },
   "outputs": [
    {
     "data": {
      "application/vnd.jupyter.widget-view+json": {
       "model_id": "58a98fedf9eb4faeac05edd6beaae60c",
       "version_major": 2,
       "version_minor": 0
      },
      "text/plain": [
       "Tab(children=(Output(layout=Layout(max_height='600px', max_width='940px', overflow='scroll')), Force(network=<…"
      ]
     },
     "metadata": {},
     "output_type": "display_data"
    }
   ],
   "source": [
    "%%gremlin -g type -p v,inV,outV,inV,outV,inV,outV\n",
    "\n",
    "g.V('account-4398046519460').\n",
    "  emit().\n",
    "  repeat(\n",
    "      in('FEATURE_OF_ACCOUNT').\n",
    "      out('FEATURE_OF_ACCOUNT').\n",
    "      simplePath()\n",
    "  ).times(2). \n",
    "  in('ACCOUNT').\n",
    "  out('MERCHANT').\n",
    "  path().\n",
    "  by(\n",
    "      project('type', 'value').\n",
    "      by(label).\n",
    "      by(valueMap('account_number', 'value', 'amount', 'created', 'name'))\n",
    "  )"
   ]
  },
  {
   "cell_type": "markdown",
   "id": "f64e3734-fd13-455c-b470-17d7f51bb296",
   "metadata": {},
   "source": [
    "**Finding all transactions linked to the potential ring**\n",
    "*Transaction focused*"
   ]
  },
  {
   "cell_type": "code",
   "execution_count": 19,
   "id": "090cd5d9-e445-4edc-9d5c-31fff3a3378a",
   "metadata": {
    "tags": []
   },
   "outputs": [
    {
     "data": {
      "application/vnd.jupyter.widget-view+json": {
       "model_id": "4ac9bf9ea8e3478aae31b50e0af749c4",
       "version_major": 2,
       "version_minor": 0
      },
      "text/plain": [
       "Tab(children=(Output(layout=Layout(max_height='600px', max_width='940px', overflow='scroll')), Force(network=<…"
      ]
     },
     "metadata": {},
     "output_type": "display_data"
    }
   ],
   "source": [
    "%%gremlin -g type -p v,inV,outV,inV,outV,inV,outV\n",
    "\n",
    "g.V('05d69fc8a55e4b648318d460e748839a').\n",
    "  out('ACCOUNT').as('account').\n",
    "  emit().\n",
    "  repeat(\n",
    "      in('FEATURE_OF_ACCOUNT').\n",
    "      out('FEATURE_OF_ACCOUNT').\n",
    "      simplePath()\n",
    "  ).times(2). \n",
    "  in('ACCOUNT').\n",
    "  out('MERCHANT').\n",
    "  path().from('account').\n",
    "  by(\n",
    "      project('type', 'value').\n",
    "      by(label).\n",
    "      by(valueMap('account_number', 'value', 'amount', 'created', 'name'))\n",
    "  )"
   ]
  },
  {
   "cell_type": "markdown",
   "id": "c364c2ea-8262-48a0-9247-49e613e3c392",
   "metadata": {},
   "source": [
    "**Find all potential fraud rings**"
   ]
  },
  {
   "cell_type": "code",
   "execution_count": 20,
   "id": "627a6ce2-2f59-4606-b446-dff031956e57",
   "metadata": {
    "tags": []
   },
   "outputs": [
    {
     "data": {
      "application/vnd.jupyter.widget-view+json": {
       "model_id": "ea2c04f830b34eb095e4d7be0be727cd",
       "version_major": 2,
       "version_minor": 0
      },
      "text/plain": [
       "Tab(children=(Output(layout=Layout(max_height='600px', max_width='940px', overflow='scroll')), Force(network=<…"
      ]
     },
     "metadata": {},
     "output_type": "display_data"
    }
   ],
   "source": [
    "%%gremlin -g type -p v,inV,outV,inV,outV\n",
    "\n",
    "g.V().hasLabel('Account').\n",
    "  where(\n",
    "      in('FEATURE_OF_ACCOUNT').\n",
    "      out('FEATURE_OF_ACCOUNT').\n",
    "      dedup().\n",
    "      count().\n",
    "      is(gt(5))\n",
    "  ).\n",
    "  emit().\n",
    "  repeat(\n",
    "      in('FEATURE_OF_ACCOUNT').\n",
    "      out('FEATURE_OF_ACCOUNT').\n",
    "      simplePath()\n",
    "  ).\n",
    "  times(2). \n",
    "  path().\n",
    "  by(\n",
    "      project('type', 'value').\n",
    "      by(label).\n",
    "      by(valueMap('account_number', 'value'))\n",
    "  )"
   ]
  },
  {
   "cell_type": "markdown",
   "id": "3f971d16-7521-427b-bd4e-57aaabbf697f",
   "metadata": {},
   "source": [
    "**Find all potential fraud rings**\n",
    "*Filtering on IP address*"
   ]
  },
  {
   "cell_type": "code",
   "execution_count": 21,
   "id": "7b9180ee-cf5e-419d-8968-2c885d0de120",
   "metadata": {
    "tags": []
   },
   "outputs": [
    {
     "data": {
      "application/vnd.jupyter.widget-view+json": {
       "model_id": "10a1401fe17b4576a8ee52e7abf74bc8",
       "version_major": 2,
       "version_minor": 0
      },
      "text/plain": [
       "Tab(children=(Output(layout=Layout(max_height='600px', max_width='940px', overflow='scroll')), Force(network=<…"
      ]
     },
     "metadata": {},
     "output_type": "display_data"
    }
   ],
   "source": [
    "%%gremlin -g type -p v,inV,outV,inV,outV,inV,outV\n",
    "\n",
    "g.V().hasLabel('Account').\n",
    "  where(\n",
    "      in('FEATURE_OF_ACCOUNT').\n",
    "      out('FEATURE_OF_ACCOUNT').\n",
    "      dedup().\n",
    "      count().\n",
    "      is(gt(5))\n",
    "  ).\n",
    "  emit().\n",
    "  repeat(\n",
    "      in('FEATURE_OF_ACCOUNT').hasLabel('IpAddress').\n",
    "      out('FEATURE_OF_ACCOUNT').\n",
    "      simplePath()\n",
    "  ).\n",
    "  times(2).dedup().\n",
    "  in('ACCOUNT').in('FEATURE_OF_TRANSACTION').hasLabel('IpAddress').\n",
    "  path().\n",
    "  by(\n",
    "      project('type', 'value').\n",
    "      by(label).\n",
    "      by(valueMap('account_number', 'value', 'amount', 'created'))\n",
    "  )"
   ]
  },
  {
   "cell_type": "markdown",
   "id": "483f0e1d-9832-480d-a77e-b14b08944c96",
   "metadata": {},
   "source": [
    "### Query - Identity Theft"
   ]
  },
  {
   "cell_type": "markdown",
   "id": "4c48e306-2373-4cef-b82d-a30d268d7b6d",
   "metadata": {},
   "source": [
    "**Single victim, multiple unusual transaction features**\n",
    "*Account focused*"
   ]
  },
  {
   "cell_type": "code",
   "execution_count": 22,
   "id": "20e9dc2b-b1f8-4d56-9f4d-4d8f617a37ef",
   "metadata": {
    "tags": []
   },
   "outputs": [
    {
     "data": {
      "application/vnd.jupyter.widget-view+json": {
       "model_id": "9320e41a003b48c08293caeb3d7d697f",
       "version_major": 2,
       "version_minor": 0
      },
      "text/plain": [
       "Tab(children=(Output(layout=Layout(max_height='600px', max_width='940px', overflow='scroll')), Force(network=<…"
      ]
     },
     "metadata": {},
     "output_type": "display_data"
    }
   ],
   "source": [
    "%%gremlin -g type\n",
    "\n",
    "g.V('account-17592186055331').\n",
    "  union(\n",
    "      in('ACCOUNT').\n",
    "      and(\n",
    "          has('created', gte(datetime('2021-01-10'))), \n",
    "          has('created', lte(datetime('2021-01-12')))\n",
    "      ).\n",
    "      in('FEATURE_OF_TRANSACTION'),\n",
    "      in('FEATURE_OF_ACCOUNT')\n",
    "  ).\n",
    "  path().\n",
    "  by(\n",
    "      project('type', 'value').\n",
    "      by(label).\n",
    "      by(valueMap('account_number', 'value', 'amount', 'created', 'name'))\n",
    "  ) "
   ]
  },
  {
   "cell_type": "markdown",
   "id": "508696f3-228e-411d-90a9-36f8d71c81a2",
   "metadata": {},
   "source": [
    "**Single victim, multiple unusual transaction features**\n",
    "*Transaction focused*"
   ]
  },
  {
   "cell_type": "code",
   "execution_count": 23,
   "id": "8f0c383a-a239-48d7-9c44-ddd73bc61958",
   "metadata": {
    "tags": []
   },
   "outputs": [
    {
     "data": {
      "application/vnd.jupyter.widget-view+json": {
       "model_id": "009d4bf981eb4f95a5e95a0c5cd9eae8",
       "version_major": 2,
       "version_minor": 0
      },
      "text/plain": [
       "Tab(children=(Output(layout=Layout(max_height='600px', max_width='940px', overflow='scroll')), Force(network=<…"
      ]
     },
     "metadata": {},
     "output_type": "display_data"
    }
   ],
   "source": [
    "%%gremlin -g type\n",
    "\n",
    "g.V('a5fdd9f7b64c48d2823da969d885373d').\n",
    "  out('ACCOUNT').as('account').\n",
    "  union(\n",
    "      in('ACCOUNT').\n",
    "      and(\n",
    "          has('created', gte(datetime('2021-01-10'))), \n",
    "          has('created', lte(datetime('2021-01-12')))\n",
    "      ).\n",
    "      in('FEATURE_OF_TRANSACTION'),\n",
    "      in('FEATURE_OF_ACCOUNT')\n",
    "  ).\n",
    "  path().from('account').\n",
    "  by(\n",
    "      project('type', 'value').\n",
    "      by(label).\n",
    "      by(valueMap('account_number', 'value', 'amount', 'created', 'name'))\n",
    "  ) "
   ]
  },
  {
   "cell_type": "markdown",
   "id": "3e8ba026-90a6-4c9a-9587-8393a970804d",
   "metadata": {},
   "source": [
    "**Multiple victims, same transaction features**\n",
    "*Account focused*"
   ]
  },
  {
   "cell_type": "code",
   "execution_count": 24,
   "id": "efb8f0a1-1f1f-4d86-b67f-353659975a74",
   "metadata": {
    "tags": []
   },
   "outputs": [
    {
     "data": {
      "application/vnd.jupyter.widget-view+json": {
       "model_id": "befb2bbd76024b4188fea1f97b5adb1b",
       "version_major": 2,
       "version_minor": 0
      },
      "text/plain": [
       "Tab(children=(Output(layout=Layout(max_height='600px', max_width='940px', overflow='scroll')), Force(network=<…"
      ]
     },
     "metadata": {},
     "output_type": "display_data"
    }
   ],
   "source": [
    "%%gremlin -g type -p v,inV,outV,inV,outV\n",
    "\n",
    "g.V('account-28587302331601').\n",
    "  in('ACCOUNT').\n",
    "  and(\n",
    "      has('created', gte(datetime('2021-01-03'))), \n",
    "      has('created', lte(datetime('2021-01-07')))\n",
    "  ).\n",
    "  in('FEATURE_OF_TRANSACTION').\n",
    "  out('FEATURE_OF_TRANSACTION').\n",
    "  and(\n",
    "      has('created', gte(datetime('2021-01-03'))), \n",
    "      has('created', lte(datetime('2021-01-07')))\n",
    "  ).\n",
    "  union(\n",
    "      out('ACCOUNT'),\n",
    "      out('MERCHANT')\n",
    "  ).\n",
    "  path().\n",
    "  by(\n",
    "      project('type', 'value').\n",
    "      by(label).\n",
    "      by(valueMap('account_number', 'value', 'amount', 'created', 'name'))\n",
    "  )"
   ]
  },
  {
   "cell_type": "markdown",
   "id": "13bf9679-2afa-429f-93c3-ba773fffe0bc",
   "metadata": {},
   "source": [
    "**Multiple victims, same transaction features**\n",
    "*Transaction focused*"
   ]
  },
  {
   "cell_type": "code",
   "execution_count": 25,
   "id": "1b82dc6e-23d5-487d-b5fd-186f1763a1fa",
   "metadata": {
    "tags": []
   },
   "outputs": [
    {
     "data": {
      "application/vnd.jupyter.widget-view+json": {
       "model_id": "f2ebf15e970042c8bdf46a42db1c4214",
       "version_major": 2,
       "version_minor": 0
      },
      "text/plain": [
       "Tab(children=(Output(layout=Layout(max_height='600px', max_width='940px', overflow='scroll')), Force(network=<…"
      ]
     },
     "metadata": {},
     "output_type": "display_data"
    }
   ],
   "source": [
    "%%gremlin -g type -p v,inV,outV,inV,outV\n",
    "\n",
    "g.V('7dbf0290893441a699a30362d4158d4c').\n",
    "  out('ACCOUNT').as('account').\n",
    "  in('ACCOUNT').\n",
    "  and(\n",
    "      has('created', gte(datetime('2021-01-03'))), \n",
    "      has('created', lte(datetime('2021-01-07')))\n",
    "  ).\n",
    "  in('FEATURE_OF_TRANSACTION').\n",
    "  out('FEATURE_OF_TRANSACTION').\n",
    "  and(\n",
    "      has('created', gte(datetime('2021-01-03'))), \n",
    "      has('created', lte(datetime('2021-01-07')))\n",
    "  ).\n",
    "  union(\n",
    "      out('ACCOUNT'),\n",
    "      out('MERCHANT')\n",
    "  ).\n",
    "  path().from('account').\n",
    "  by(\n",
    "      project('type', 'value').\n",
    "      by(label).\n",
    "      by(valueMap('account_number', 'value', 'amount', 'created', 'name'))\n",
    "  )"
   ]
  },
  {
   "cell_type": "markdown",
   "id": "f3788eec-61bd-4f1b-b504-6fb9de7b54a0",
   "metadata": {},
   "source": [
    "**Find all potential identity theft**"
   ]
  },
  {
   "cell_type": "code",
   "execution_count": 26,
   "id": "35e59ef1-bccf-4ccb-8daa-b9af7e1c83a1",
   "metadata": {
    "tags": []
   },
   "outputs": [
    {
     "data": {
      "application/vnd.jupyter.widget-view+json": {
       "model_id": "726be7da7eeb4943a4f5366e362a5f16",
       "version_major": 2,
       "version_minor": 0
      },
      "text/plain": [
       "Tab(children=(Output(layout=Layout(max_height='600px', max_width='940px', overflow='scroll')), Force(network=<…"
      ]
     },
     "metadata": {},
     "output_type": "display_data"
    }
   ],
   "source": [
    "%%gremlin -g type -p v,inV,outV,inV,outV\n",
    "\n",
    "g.E().hasLabel('FEATURE_OF_TRANSACTION').\n",
    "  outV().as ('feature').\n",
    "  where(\n",
    "      and(\n",
    "          out('FEATURE_OF_ACCOUNT').count().is(eq(0)),\n",
    "          out('FEATURE_OF_TRANSACTION').count().is(gte(4))\n",
    "      ) \n",
    "  ).\n",
    "  out('FEATURE_OF_TRANSACTION').\n",
    "   union(\n",
    "      out('ACCOUNT'),\n",
    "      out('MERCHANT'),\n",
    "      in('FEATURE_OF_TRANSACTION')\n",
    "  ).\n",
    "  path().from('feature').\n",
    "  by(\n",
    "      project('type', 'value').\n",
    "      by(label).\n",
    "      by(valueMap('account_number', 'value', 'amount', 'created', 'name'))\n",
    "  )"
   ]
  },
  {
   "cell_type": "markdown",
   "id": "f4922c8e-1c14-4485-b405-a5aca50f584b",
   "metadata": {},
   "source": [
    "## Clean-up"
   ]
  },
  {
   "cell_type": "code",
   "execution_count": 4,
   "id": "954af99b-470e-4168-9054-4bcc9d00d94e",
   "metadata": {
    "tags": []
   },
   "outputs": [
    {
     "data": {
      "application/vnd.jupyter.widget-view+json": {
       "model_id": "4cd60b5fda79469f96ea7b8b25354a62",
       "version_major": 2,
       "version_minor": 0
      },
      "text/plain": [
       "Tab(children=(Output(layout=Layout(max_height='600px', max_width='940px', overflow='scroll')), Output(layout=L…"
      ]
     },
     "metadata": {},
     "output_type": "display_data"
    }
   ],
   "source": [
    "%%gremlin\n",
    "\n",
    "g.V().drop().iterate()"
   ]
  },
  {
   "cell_type": "code",
   "execution_count": null,
   "id": "fdae3f72-f204-4ed4-8e1a-9e32a945d75a",
   "metadata": {},
   "outputs": [],
   "source": []
  }
 ],
 "metadata": {
  "kernelspec": {
   "display_name": "Python 3",
   "language": "python",
   "name": "python3"
  },
  "language_info": {
   "codemirror_mode": {
    "name": "ipython",
    "version": 3
   },
   "file_extension": ".py",
   "mimetype": "text/x-python",
   "name": "python",
   "nbconvert_exporter": "python",
   "pygments_lexer": "ipython3",
   "version": "3.10.8"
  }
 },
 "nbformat": 4,
 "nbformat_minor": 5
}
